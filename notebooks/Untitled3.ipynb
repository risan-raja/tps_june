{
 "cells": [
  {
   "cell_type": "markdown",
   "id": "df9e1d4d-84db-499f-a863-b4c0bc541aa2",
   "metadata": {},
   "source": [
    "Setup MODIN"
   ]
  },
  {
   "cell_type": "code",
   "execution_count": 1,
   "id": "97e1f612-896a-4487-a91b-87d78646a2d4",
   "metadata": {},
   "outputs": [],
   "source": [
    "import os\n",
    "\n",
    "os.environ[\"MODIN_ENGINE\"] = \"dask\"  # Modin will use Dask\n",
    "\n",
    "import modin.pandas as pd"
   ]
  },
  {
   "cell_type": "markdown",
   "id": "6d1a1fda-ff13-4e21-a6a3-09aa45eeec19",
   "metadata": {},
   "source": [
    "Import Libraries"
   ]
  },
  {
   "cell_type": "code",
   "execution_count": 2,
   "id": "2371a663-01fd-4e3f-9d8d-c941aad2af87",
   "metadata": {},
   "outputs": [],
   "source": [
    "import numpy as np\n",
    "import warnings\n",
    "warnings.filterwarnings('ignore')\n",
    "pd.options.display.max_columns = 80\n",
    "pd.options.display.max_rows = 80\n",
    "import seaborn as sns\n",
    "%matplotlib inline\n",
    "sns.set()"
   ]
  },
  {
   "cell_type": "code",
   "execution_count": 3,
   "id": "37c237bf-854b-4d78-a9cf-61803350f3ea",
   "metadata": {},
   "outputs": [
    {
     "name": "stderr",
     "output_type": "stream",
     "text": [
      "distributed.diskutils - INFO - Found stale lock file and directory '/home/mlop3n/PycharmProjects/tps_june/notebooks/dask-worker-space/worker-gayn3hdp', purging\n",
      "distributed.diskutils - INFO - Found stale lock file and directory '/home/mlop3n/PycharmProjects/tps_june/notebooks/dask-worker-space/worker-gn90cbwb', purging\n",
      "distributed.diskutils - INFO - Found stale lock file and directory '/home/mlop3n/PycharmProjects/tps_june/notebooks/dask-worker-space/worker-fpx9e_k1', purging\n",
      "distributed.diskutils - INFO - Found stale lock file and directory '/home/mlop3n/PycharmProjects/tps_june/notebooks/dask-worker-space/worker-qye92c2v', purging\n"
     ]
    }
   ],
   "source": [
    "data = pd.read_pickle('cooked.pkl')"
   ]
  },
  {
   "cell_type": "code",
   "execution_count": 4,
   "id": "9d7c05b3-ebf3-4257-9dac-39d8996bbdc3",
   "metadata": {},
   "outputs": [
    {
     "name": "stdout",
     "output_type": "stream",
     "text": [
      "<class 'modin.pandas.dataframe.DataFrame'>\n",
      "Int64Index: 1000000 entries, 0 to 999999\n",
      "Data columns (total 81 columns):\n",
      " #   Column        Non-Null Count    Dtype  \n",
      "---  ------------  ----------------  -----  \n",
      " 0   F_1_0         981603 non-null   float32\n",
      " 1   F_1_1         981784 non-null   float32\n",
      " 2   F_1_2         981992 non-null   float32\n",
      " 3   F_1_3         981750 non-null   float32\n",
      " 4   F_1_4         981678 non-null   float32\n",
      " 5   F_1_5         981911 non-null   float32\n",
      " 6   F_1_6         981867 non-null   float32\n",
      " 7   F_1_7         981872 non-null   float32\n",
      " 8   F_1_8         981838 non-null   float32\n",
      " 9   F_1_9         981751 non-null   float32\n",
      " 10  F_1_10        982039 non-null   float32\n",
      " 11  F_1_11        981830 non-null   float32\n",
      " 12  F_1_12        981797 non-null   float32\n",
      " 13  F_1_13        981602 non-null   float32\n",
      " 14  F_1_14        981961 non-null   float32\n",
      " 15  F_2_0         1000000 non-null  uint8\n",
      " 16  F_2_1         1000000 non-null  uint8\n",
      " 17  F_2_2         1000000 non-null  uint8\n",
      " 18  F_2_3         1000000 non-null  uint8\n",
      " 19  F_2_4         1000000 non-null  uint8\n",
      " 20  F_2_5         1000000 non-null  uint8\n",
      " 21  F_2_6         1000000 non-null  uint8\n",
      " 22  F_2_7         1000000 non-null  uint8\n",
      " 23  F_2_8         1000000 non-null  uint8\n",
      " 24  F_2_9         1000000 non-null  uint8\n",
      " 25  F_2_10        1000000 non-null  uint8\n",
      " 26  F_2_11        1000000 non-null  uint8\n",
      " 27  F_2_12        1000000 non-null  uint8\n",
      " 28  F_2_13        1000000 non-null  uint8\n",
      " 29  F_2_14        1000000 non-null  uint8\n",
      " 30  F_2_15        1000000 non-null  uint8\n",
      " 31  F_2_16        1000000 non-null  uint8\n",
      " 32  F_2_17        1000000 non-null  uint8\n",
      " 33  F_2_18        1000000 non-null  uint8\n",
      " 34  F_2_19        1000000 non-null  uint8\n",
      " 35  F_2_20        1000000 non-null  uint8\n",
      " 36  F_2_21        1000000 non-null  uint8\n",
      " 37  F_2_22        1000000 non-null  uint8\n",
      " 38  F_2_23        1000000 non-null  uint8\n",
      " 39  F_2_24        1000000 non-null  uint8\n",
      " 40  F_3_0         981971 non-null   float32\n",
      " 41  F_3_1         981655 non-null   float32\n",
      " 42  F_3_2         981944 non-null   float32\n",
      " 43  F_3_3         981946 non-null   float32\n",
      " 44  F_3_4         981627 non-null   float32\n",
      " 45  F_3_5         981702 non-null   float32\n",
      " 46  F_3_6         981808 non-null   float32\n",
      " 47  F_3_7         981987 non-null   float32\n",
      " 48  F_3_8         981902 non-null   float32\n",
      " 49  F_3_9         981894 non-null   float32\n",
      " 50  F_3_10        981800 non-null   float32\n",
      " 51  F_3_11        981612 non-null   float32\n",
      " 52  F_3_12        981703 non-null   float32\n",
      " 53  F_3_13        981940 non-null   float32\n",
      " 54  F_3_14        981861 non-null   float32\n",
      " 55  F_3_15        981762 non-null   float32\n",
      " 56  F_3_16        981878 non-null   float32\n",
      " 57  F_3_17        981722 non-null   float32\n",
      " 58  F_3_18        981911 non-null   float32\n",
      " 59  F_3_19        981800 non-null   float32\n",
      " 60  F_3_20        981752 non-null   float32\n",
      " 61  F_3_21        981604 non-null   float32\n",
      " 62  F_3_22        981823 non-null   float32\n",
      " 63  F_3_23        981794 non-null   float32\n",
      " 64  F_3_24        981855 non-null   float32\n",
      " 65  F_4_0         981872 non-null   float32\n",
      " 66  F_4_1         981836 non-null   float32\n",
      " 67  F_4_2         981505 non-null   float32\n",
      " 68  F_4_3         981971 non-null   float32\n",
      " 69  F_4_4         982043 non-null   float32\n",
      " 70  F_4_5         981937 non-null   float32\n",
      " 71  F_4_6         981675 non-null   float32\n",
      " 72  F_4_7         981986 non-null   float32\n",
      " 73  F_4_8         981824 non-null   float32\n",
      " 74  F_4_9         981735 non-null   float32\n",
      " 75  F_4_10        981775 non-null   float32\n",
      " 76  F_4_11        981881 non-null   float32\n",
      " 77  F_4_12        981694 non-null   float32\n",
      " 78  F_4_13        982005 non-null   float32\n",
      " 79  F_4_14        981733 non-null   float32\n",
      " 80  missing_cols  1000000 non-null  uint8\n",
      "dtypes: float32(55), uint8(26)\n",
      "memory usage: 242.2 MB\n"
     ]
    }
   ],
   "source": [
    "data.info()"
   ]
  },
  {
   "cell_type": "code",
   "execution_count": 5,
   "id": "9b4337c5-f41c-4757-9252-df55cddb9008",
   "metadata": {},
   "outputs": [],
   "source": [
    "dm_1 = data[data.missing_cols==1]\n",
    "dc = data[data.missing_cols==0]"
   ]
  },
  {
   "cell_type": "markdown",
   "id": "7dcb1b0f-7baf-40f4-abe6-dc5561b5d328",
   "metadata": {},
   "source": [
    "Make datasets for single column learning<br>\n",
    " - Methods possible other than imputation:\n",
    " - PCA(dimensionality reduction)\n",
    " - feature elimination\n",
    "\n",
    "Initial Steps<br>\n",
    " - [F]_clean stores indexes where each column is not missing\n",
    " - Separate them based on number of missing columns in each row"
   ]
  },
  {
   "cell_type": "code",
   "execution_count": 6,
   "id": "7b480a42-2f9a-4427-a373-511180b9a731",
   "metadata": {},
   "outputs": [],
   "source": [
    "missing_ = data.isna().sum(axis=0)\n",
    "missing_features = np.array(missing_[missing_ > 0].index)"
   ]
  },
  {
   "cell_type": "markdown",
   "id": "800b4056-f9bb-4a81-bba7-abbc8b935dbd",
   "metadata": {},
   "source": [
    "    missing_features = array(['F_1_0', 'F_1_1', 'F_1_2', 'F_1_3', 'F_1_4', 'F_1_5', 'F_1_6',\n",
    "       'F_1_7', 'F_1_8', 'F_1_9', 'F_1_10', 'F_1_11', 'F_1_12', 'F_1_13',\n",
    "       'F_1_14', 'F_3_0', 'F_3_1', 'F_3_2', 'F_3_3', 'F_3_4', 'F_3_5',\n",
    "       'F_3_6', 'F_3_7', 'F_3_8', 'F_3_9', 'F_3_10', 'F_3_11', 'F_3_12',\n",
    "       'F_3_13', 'F_3_14', 'F_3_15', 'F_3_16', 'F_3_17', 'F_3_18',\n",
    "       'F_3_19', 'F_3_20', 'F_3_21', 'F_3_22', 'F_3_23', 'F_3_24',\n",
    "       'F_4_0', 'F_4_1', 'F_4_2', 'F_4_3', 'F_4_4', 'F_4_5', 'F_4_6',\n",
    "       'F_4_7', 'F_4_8', 'F_4_9', 'F_4_10', 'F_4_11', 'F_4_12', 'F_4_13',\n",
    "       'F_4_14'], dtype=object)"
   ]
  },
  {
   "cell_type": "code",
   "execution_count": 21,
   "id": "23f9e512-d101-44d2-b685-a21139f4a2c2",
   "metadata": {},
   "outputs": [],
   "source": [
    "F_clean = {f:data[data[f].isna()==False].index for f in missing_features}\n",
    "F_dirty = {f:data[data[f].isna()].index for f in missing_features}"
   ]
  },
  {
   "cell_type": "code",
   "execution_count": 10,
   "id": "33535c1c-cf2e-48e2-b1b2-f149f0849d00",
   "metadata": {},
   "outputs": [],
   "source": [
    "missing_.sort_values(inplace=True)"
   ]
  },
  {
   "cell_type": "code",
   "execution_count": null,
   "id": "daef2ab6-d924-4001-a587-602cd16f2cdd",
   "metadata": {},
   "outputs": [],
   "source": [
    "missing_[missing_>0].plot(kind='bar', figsize=(20,20),logy=True, fontsize=14)"
   ]
  },
  {
   "cell_type": "markdown",
   "id": "ab6cfc9b-8557-4fbd-9799-913b804cee22",
   "metadata": {
    "tags": []
   },
   "source": [
    "#### Missing Data Distribution\n",
    "![Image](missing_data_distribution.png)"
   ]
  },
  {
   "cell_type": "markdown",
   "id": "7f4d0a18-274e-44db-92a6-856e556c6325",
   "metadata": {},
   "source": [
    "#### Densities of the least missing features\n",
    "##### F_1_10 and F_4_4\n",
    "![Image](F_1_0density.png)![Image](F_4_4.png)"
   ]
  },
  {
   "cell_type": "code",
   "execution_count": 13,
   "id": "6c32d66a-9601-4dc0-99bf-21fb2a5dd6fa",
   "metadata": {},
   "outputs": [],
   "source": [
    "training_order = missing_.index"
   ]
  },
  {
   "cell_type": "markdown",
   "id": "f6fde632-4c3a-473a-802e-99f0fc6f7338",
   "metadata": {},
   "source": [
    " - Developed Training Order\n",
    " "
   ]
  },
  {
   "cell_type": "code",
   "execution_count": null,
   "id": "a1b8c6d2-627e-4533-a50a-fb6c5b03b518",
   "metadata": {},
   "outputs": [],
   "source": []
  }
 ],
 "metadata": {
  "kernelspec": {
   "display_name": "Python 3 (ipykernel)",
   "language": "python",
   "name": "python3"
  },
  "language_info": {
   "codemirror_mode": {
    "name": "ipython",
    "version": 3
   },
   "file_extension": ".py",
   "mimetype": "text/x-python",
   "name": "python",
   "nbconvert_exporter": "python",
   "pygments_lexer": "ipython3",
   "version": "3.9.10"
  }
 },
 "nbformat": 4,
 "nbformat_minor": 5
}
