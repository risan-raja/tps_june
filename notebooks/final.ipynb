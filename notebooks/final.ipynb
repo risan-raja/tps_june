{
 "cells": [
  {
   "cell_type": "markdown",
   "id": "df9e1d4d-84db-499f-a863-b4c0bc541aa2",
   "metadata": {},
   "source": [
    "Setup MODIN"
   ]
  },
  {
   "cell_type": "code",
   "execution_count": 1,
   "id": "97e1f612-896a-4487-a91b-87d78646a2d4",
   "metadata": {},
   "outputs": [],
   "source": [
    "import os\n",
    "\n",
    "os.environ[\"MODIN_ENGINE\"] = \"dask\"  # Modin will use Dask\n",
    "\n",
    "import pandas as pd"
   ]
  },
  {
   "cell_type": "markdown",
   "id": "6d1a1fda-ff13-4e21-a6a3-09aa45eeec19",
   "metadata": {},
   "source": [
    "Import Libraries"
   ]
  },
  {
   "cell_type": "code",
   "execution_count": 2,
   "id": "2371a663-01fd-4e3f-9d8d-c941aad2af87",
   "metadata": {},
   "outputs": [
    {
     "name": "stderr",
     "output_type": "stream",
     "text": [
      "In /opt/myintel/intelpython/latest/envs/nntf/lib/python3.9/site-packages/matplotlib/mpl-data/stylelib/_classic_test.mplstyle: \n",
      "The text.latex.preview rcparam was deprecated in Matplotlib 3.3 and will be removed two minor releases later.\n",
      "In /opt/myintel/intelpython/latest/envs/nntf/lib/python3.9/site-packages/matplotlib/mpl-data/stylelib/_classic_test.mplstyle: \n",
      "The mathtext.fallback_to_cm rcparam was deprecated in Matplotlib 3.3 and will be removed two minor releases later.\n",
      "In /opt/myintel/intelpython/latest/envs/nntf/lib/python3.9/site-packages/matplotlib/mpl-data/stylelib/_classic_test.mplstyle: Support for setting the 'mathtext.fallback_to_cm' rcParam is deprecated since 3.3 and will be removed two minor releases later; use 'mathtext.fallback : 'cm' instead.\n",
      "In /opt/myintel/intelpython/latest/envs/nntf/lib/python3.9/site-packages/matplotlib/mpl-data/stylelib/_classic_test.mplstyle: \n",
      "The validate_bool_maybe_none function was deprecated in Matplotlib 3.3 and will be removed two minor releases later.\n",
      "In /opt/myintel/intelpython/latest/envs/nntf/lib/python3.9/site-packages/matplotlib/mpl-data/stylelib/_classic_test.mplstyle: \n",
      "The savefig.jpeg_quality rcparam was deprecated in Matplotlib 3.3 and will be removed two minor releases later.\n",
      "In /opt/myintel/intelpython/latest/envs/nntf/lib/python3.9/site-packages/matplotlib/mpl-data/stylelib/_classic_test.mplstyle: \n",
      "The keymap.all_axes rcparam was deprecated in Matplotlib 3.3 and will be removed two minor releases later.\n",
      "In /opt/myintel/intelpython/latest/envs/nntf/lib/python3.9/site-packages/matplotlib/mpl-data/stylelib/_classic_test.mplstyle: \n",
      "The animation.avconv_path rcparam was deprecated in Matplotlib 3.3 and will be removed two minor releases later.\n",
      "In /opt/myintel/intelpython/latest/envs/nntf/lib/python3.9/site-packages/matplotlib/mpl-data/stylelib/_classic_test.mplstyle: \n",
      "The animation.avconv_args rcparam was deprecated in Matplotlib 3.3 and will be removed two minor releases later.\n"
     ]
    }
   ],
   "source": [
    "import numpy as np\n",
    "import warnings\n",
    "import matplotlib.pyplot as plt\n",
    "warnings.filterwarnings('ignore')\n",
    "pd.options.display.max_columns = 80\n",
    "pd.options.display.max_rows = 80\n",
    "import seaborn as sns\n",
    "%matplotlib inline\n",
    "sns.set()\n",
    "def dfy(s):\n",
    "    return pd.DataFrame(s)"
   ]
  },
  {
   "cell_type": "code",
   "execution_count": 3,
   "id": "37c237bf-854b-4d78-a9cf-61803350f3ea",
   "metadata": {},
   "outputs": [],
   "source": [
    "data = pd.read_pickle('cooked.pkl')"
   ]
  },
  {
   "cell_type": "code",
   "execution_count": 4,
   "id": "37b09f61-a4b1-47ff-b771-c4b51a79e2a5",
   "metadata": {},
   "outputs": [],
   "source": [
    "category_columns = [x for x in data.columns if 'F_2_' in x]"
   ]
  },
  {
   "cell_type": "code",
   "execution_count": 5,
   "id": "94f394fb-15c2-43b3-92e2-33f526e65a0f",
   "metadata": {},
   "outputs": [],
   "source": [
    "data.loc[:,category_columns] = data.loc[:,category_columns].astype(np.uint8)"
   ]
  },
  {
   "cell_type": "code",
   "execution_count": 6,
   "id": "9b4337c5-f41c-4757-9252-df55cddb9008",
   "metadata": {},
   "outputs": [],
   "source": [
    "dm_1 = data[data.missing_cols==1]\n",
    "dc = data[data.missing_cols==0]"
   ]
  },
  {
   "cell_type": "markdown",
   "id": "7dcb1b0f-7baf-40f4-abe6-dc5561b5d328",
   "metadata": {
    "deletable": false,
    "editable": false,
    "tags": []
   },
   "source": [
    "#### Make datasets for single column learning<br>\n",
    " - Methods possible other than imputation:\n",
    " - PCA(dimensionality reduction)\n",
    " - feature elimination\n",
    "\n",
    "Initial Steps<br>\n",
    " - [F]_clean stores indexes where each column is not missing\n",
    " - Separate them based on number of missing columns in each row"
   ]
  },
  {
   "cell_type": "code",
   "execution_count": 7,
   "id": "7b480a42-2f9a-4427-a373-511180b9a731",
   "metadata": {},
   "outputs": [],
   "source": [
    "missing_ = data.isna().sum(axis=0)\n",
    "missing_features = np.array(missing_[missing_ > 0].index)"
   ]
  },
  {
   "cell_type": "markdown",
   "id": "800b4056-f9bb-4a81-bba7-abbc8b935dbd",
   "metadata": {},
   "source": [
    "    missing_features = array(['F_1_0', 'F_1_1', 'F_1_2', 'F_1_3', 'F_1_4', 'F_1_5', 'F_1_6',\n",
    "       'F_1_7', 'F_1_8', 'F_1_9', 'F_1_10', 'F_1_11', 'F_1_12', 'F_1_13',\n",
    "       'F_1_14', 'F_3_0', 'F_3_1', 'F_3_2', 'F_3_3', 'F_3_4', 'F_3_5',\n",
    "       'F_3_6', 'F_3_7', 'F_3_8', 'F_3_9', 'F_3_10', 'F_3_11', 'F_3_12',\n",
    "       'F_3_13', 'F_3_14', 'F_3_15', 'F_3_16', 'F_3_17', 'F_3_18',\n",
    "       'F_3_19', 'F_3_20', 'F_3_21', 'F_3_22', 'F_3_23', 'F_3_24',\n",
    "       'F_4_0', 'F_4_1', 'F_4_2', 'F_4_3', 'F_4_4', 'F_4_5', 'F_4_6',\n",
    "       'F_4_7', 'F_4_8', 'F_4_9', 'F_4_10', 'F_4_11', 'F_4_12', 'F_4_13',\n",
    "       'F_4_14'], dtype=object)"
   ]
  },
  {
   "cell_type": "code",
   "execution_count": 8,
   "id": "23f9e512-d101-44d2-b685-a21139f4a2c2",
   "metadata": {},
   "outputs": [],
   "source": [
    "F_clean = {f:data[data[f].isna()==False].index for f in missing_features}\n",
    "F_dirty = {f:data[data[f].isna()].index for f in missing_features}"
   ]
  },
  {
   "cell_type": "code",
   "execution_count": 9,
   "id": "33535c1c-cf2e-48e2-b1b2-f149f0849d00",
   "metadata": {},
   "outputs": [],
   "source": [
    "missing_.sort_values(inplace=True)"
   ]
  },
  {
   "cell_type": "markdown",
   "id": "ab6cfc9b-8557-4fbd-9799-913b804cee22",
   "metadata": {
    "deletable": false,
    "editable": false,
    "tags": []
   },
   "source": [
    "#### Missing Data Distribution\n",
    "![Image](missing_data_distribution.png)"
   ]
  },
  {
   "cell_type": "markdown",
   "id": "7f4d0a18-274e-44db-92a6-856e556c6325",
   "metadata": {
    "deletable": false,
    "editable": false,
    "tags": []
   },
   "source": [
    "#### Densities of the least missing features\n",
    "##### F_1_10 and F_4_4\n",
    "![Image](F_1_0density.png)![Image](F_4_4.png)"
   ]
  },
  {
   "cell_type": "code",
   "execution_count": 10,
   "id": "6c32d66a-9601-4dc0-99bf-21fb2a5dd6fa",
   "metadata": {},
   "outputs": [],
   "source": [
    "training_order = missing_.index"
   ]
  },
  {
   "cell_type": "markdown",
   "id": "f6fde632-4c3a-473a-802e-99f0fc6f7338",
   "metadata": {
    "deletable": false,
    "editable": false,
    "tags": []
   },
   "source": [
    "#### Next Steps \n",
    " - Developed Training Order\n",
    " - need to examine predictability of lower features "
   ]
  },
  {
   "cell_type": "code",
   "execution_count": 11,
   "id": "cfc02794-3442-4b0a-8a01-d8afc77784fd",
   "metadata": {},
   "outputs": [],
   "source": [
    "def feature_correlations(f_):\n",
    "    clean_f110 =dc[f_].copy()\n",
    "    # dc_corr = dc.corrwith(clean_f110, axis=1)\n",
    "    # fig = sns.heatmap(dc_corr)\n",
    "    correls_clean_f110 = {}\n",
    "    for f in dc.columns:\n",
    "        if f != f_:\n",
    "            correls_clean_f110[f] = np.corrcoef(clean_f110,dc[f])[0][1]\n",
    "    correls_clean_f110.pop('missing_cols')\n",
    "\n",
    "    plt.figure(figsize=(18,18))\n",
    "    fig = sns.barplot(y=list(correls_clean_f110.keys()),x=list(correls_clean_f110.values()), orient='h')"
   ]
  },
  {
   "cell_type": "markdown",
   "id": "5dd23dec-0c1d-4f82-a99b-68905b981b5f",
   "metadata": {
    "deletable": false,
    "editable": false,
    "jp-MarkdownHeadingCollapsed": true,
    "tags": []
   },
   "source": [
    "#### Feature correlations('F_1_10')\n",
    "![Image](feature_correlations('F_1_10').png)"
   ]
  },
  {
   "cell_type": "markdown",
   "id": "51808c20-2d94-401e-b7d6-f1e41b1cf53d",
   "metadata": {
    "deletable": false,
    "editable": false,
    "tags": []
   },
   "source": [
    "#### Feature correlations('F_4_4')\n",
    "![Image](feature_correlations('F_4_4').png)"
   ]
  },
  {
   "cell_type": "code",
   "execution_count": 12,
   "id": "cc2c7c40-eaa0-404d-a130-1204b6627788",
   "metadata": {},
   "outputs": [],
   "source": [
    "# Correlation in different scenarios\n",
    "corr_data = data.drop(['missing_cols'],axis=1).corr()\n",
    "corr_clean = dc.drop(['missing_cols'],axis=1).corr()"
   ]
  },
  {
   "cell_type": "code",
   "execution_count": 13,
   "id": "52ae17a8-85dd-40f2-9fc8-92c5bb0d1ab8",
   "metadata": {},
   "outputs": [],
   "source": [
    "# percent_diff_in_correlation\n",
    "pdic = (corr_data.abs() - corr_clean.abs())/corr_clean.abs()"
   ]
  },
  {
   "cell_type": "code",
   "execution_count": 16,
   "id": "5d0a892d-db10-4080-9fc4-9dbc84f57b94",
   "metadata": {},
   "outputs": [],
   "source": [
    "# finding the columns with maximum and minimum change\n",
    "correlation_variance_cols = {}\n",
    "for f in pdic.columns:\n",
    "    pdic_np = pdic[f].to_numpy()\n",
    "    correlation_variance_cols[f] = {'max_col': pdic.columns[pdic_np.argmax()],\n",
    "                               'min_col':pdic.columns[pdic_np.argmin()]}\n",
    "    # finding the magitude\n",
    "variation_magnitude={}\n",
    "for f in pdic.columns:\n",
    "    pdic_np = pdic[f].to_numpy()\n",
    "    variation_magnitude[f] = {'max_col': pdic_np.max(),\n",
    "                               'min_col':pdic_np.min()}\n",
    "    correlation_vector_distance = {}\n",
    "for f in pdic.columns:\n",
    "    pdic_np = pdic[f].to_numpy()\n",
    "    correlation_vector_distance[f] = np.linalg.norm(pdic_np)**0.5"
   ]
  },
  {
   "cell_type": "code",
   "execution_count": null,
   "id": "3f3cc946-7403-421b-b034-52c5018b19b5",
   "metadata": {},
   "outputs": [],
   "source": [
    "dfy(correlation_variance_cols)"
   ]
  },
  {
   "cell_type": "code",
   "execution_count": null,
   "id": "a68b0d9d-e066-469d-abc3-4018a48cb496",
   "metadata": {},
   "outputs": [],
   "source": [
    "dfy(variation_magnitude)"
   ]
  },
  {
   "cell_type": "markdown",
   "id": "bca97d3e-2406-4ecf-817d-d42c0c8eaf61",
   "metadata": {
    "deletable": false,
    "editable": false,
    "tags": []
   },
   "source": [
    "#### Correlations EDA\n",
    "![Image](max_corr_var.png)\n",
    "![Image](sdfs.png)\n"
   ]
  },
  {
   "cell_type": "markdown",
   "id": "a9d88e6e-7a39-4bbe-b37c-71935d6609e2",
   "metadata": {
    "deletable": false,
    "editable": false,
    "slideshow": {
     "slide_type": "slide"
    },
    "tags": []
   },
   "source": [
    ">Correlation in total Data vs Correlation in non-missing data slice varies heavily for certain features\n",
    ">>Deviation_distance is needed for exploration"
   ]
  },
  {
   "cell_type": "markdown",
   "id": "610b0fbb-17d4-482b-9d46-72b724165310",
   "metadata": {
    "deletable": false,
    "editable": false,
    "tags": []
   },
   "source": [
    "#### Deviation Distance\n",
    "![Image](devd-Copy1.png)"
   ]
  },
  {
   "cell_type": "markdown",
   "id": "4bdd5930-3814-4ab4-bacf-dc8a2a55c6b5",
   "metadata": {},
   "source": [
    "sorted(correlation_vector_distance,key=correlation_vector_distance.get)"
   ]
  },
  {
   "cell_type": "code",
   "execution_count": null,
   "id": "b71150b9-f499-4427-bbed-3272da78ec81",
   "metadata": {},
   "outputs": [],
   "source": [
    "correlation_vector_distance['F_4_3']"
   ]
  },
  {
   "cell_type": "code",
   "execution_count": null,
   "id": "18c55851-a3f7-4f7f-979a-b9f85b41eba8",
   "metadata": {},
   "outputs": [],
   "source": [
    "mcov = data.cov()\n",
    "# for i in range(10):\n",
    "#     d_state = data[data.missing_cols==i]\n",
    "#     d_state_corr = d_state.cov()\n",
    "\n",
    "data_ = data.copy()  \n",
    "dc_ = dc.copy()"
   ]
  },
  {
   "cell_type": "code",
   "execution_count": null,
   "id": "ac880b53-e845-42cf-a309-6d6a4ffe514e",
   "metadata": {},
   "outputs": [],
   "source": [
    "varis = list(set(data.columns)-set(category_columns)-set(['missing_cols']))"
   ]
  },
  {
   "cell_type": "markdown",
   "id": "8b1bf851-c3e1-484e-bae0-d00d380aca6a",
   "metadata": {},
   "source": [
    "    varis =['F_4_12', 'F_4_10', 'F_3_19', 'F_3_21', 'F_3_9', 'F_1_9', 'F_3_18', 'F_1_0', 'F_4_7', 'F_1_5', 'F_1_11', 'F_3_8', 'F_3_1', 'F_3_17', 'F_4_9', 'F_4_13', 'F_1_2', 'F_4_8', 'F_3_15', 'F_1_10', 'F_4_6', 'F_1_8', 'F_3_7', 'F_3_13', 'F_3_6', 'F_3_23', 'F_1_6', 'F_3_12', 'F_1_12', 'F_3_4', 'F_1_1', 'F_3_20', 'F_1_13', 'F_4_3', 'F_4_5', 'F_3_2', 'F_4_11', 'F_3_14', 'F_4_1', 'F_1_4', 'F_1_3', 'F_4_14', 'F_4_0', 'F_3_5', 'F_3_3', 'F_4_4', 'F_4_2', 'F_3_24', 'F_3_22', 'F_3_16', 'F_3_11', 'F_3_0', 'F_1_14', 'F_1_7', 'F_3_10']"
   ]
  },
  {
   "cell_type": "code",
   "execution_count": 17,
   "id": "93e8255c-b464-4948-8fe8-d1634fbf46c7",
   "metadata": {},
   "outputs": [],
   "source": [
    "chd = pd.read_pickle('cookeder.pkl')"
   ]
  },
  {
   "cell_type": "code",
   "execution_count": null,
   "id": "aaa5ec3e-03cf-4f94-8a6f-9699790e7240",
   "metadata": {},
   "outputs": [],
   "source": [
    "description = data.describe()"
   ]
  },
  {
   "cell_type": "code",
   "execution_count": null,
   "id": "3560b83f-8e95-4d3d-b536-4fdfc6754be8",
   "metadata": {},
   "outputs": [],
   "source": [
    "description"
   ]
  },
  {
   "cell_type": "code",
   "execution_count": 18,
   "id": "292add82-a405-48d6-a7ff-18a77936dad8",
   "metadata": {},
   "outputs": [],
   "source": [
    "from joblib import parallel_backend\n",
    "from sklearn.neighbors import KernelDensity\n",
    "# with parallel_backend('loky'):\n",
    "    # kde = KernelDensity(kernel='gaussian', bandwidth=0.96).fit(dc__)"
   ]
  },
  {
   "cell_type": "code",
   "execution_count": null,
   "id": "a3ff974f-b4ef-4182-bfa3-2b2d5c947f08",
   "metadata": {},
   "outputs": [],
   "source": [
    "chd__ = chd.iloc[:50,:]"
   ]
  },
  {
   "cell_type": "code",
   "execution_count": null,
   "id": "a7a4fccf-be72-4ae3-9112-96e9a273e004",
   "metadata": {},
   "outputs": [],
   "source": [
    "dc__ = dc.drop(['missing_cols'], axis=1)\n",
    "chd__ = chd__.drop(['missing_cols'], axis=1)"
   ]
  },
  {
   "cell_type": "code",
   "execution_count": null,
   "id": "b0d7e152-83f0-4152-bf84-2fa8ccc7ef07",
   "metadata": {},
   "outputs": [],
   "source": [
    "kde.score_samples(chd__.loc[[1,2],:])"
   ]
  },
  {
   "cell_type": "code",
   "execution_count": null,
   "id": "f7410b29-f9d2-4bb8-b32e-d5ba42fa2377",
   "metadata": {},
   "outputs": [],
   "source": [
    "from sklearn.ensemble import HistGradientBoostingRegressor\n",
    "from sklearn.metrics import mean_squared_error,make_scorer\n",
    "from sklearnex.model_selection import train_test_split\n",
    "import sklearn\n",
    "from sklearn.experimental import enable_halving_search_cv\n",
    "from sklearn.model_selection import HalvingRandomSearchCV,RandomizedSearchCV,HalvingGridSearchCV,ParameterSampler\n",
    "sklearn.set_config(display='diagram')\n",
    "\n",
    "X_y = data.loc[F_clean['F_1_10'],:]\n",
    "X = X_y.drop(['F_1_10'],axis=1)\n",
    "y = X_y['F_1_10']\n",
    "rmse= make_scorer(mean_squared_error, squared=False)\n",
    "\n",
    "histr = HistGradientBoostingRegressor(loss='squared_error',\n",
    "    max_bins=255,\n",
    "    categorical_features=cat_idx,\n",
    "    early_stopping='auto',\n",
    "    scoring=rmse,\n",
    "    n_iter_no_change=50,\n",
    "    random_state=42,)\n",
    "\n",
    "\n",
    "\n",
    "params = {'learning_rate': [1.0, 0.1, 0.010000000000000002, 0.0010000000000000002], \n",
    "          'max_iter': [20, 30, 40], \n",
    "          'max_leaf_nodes': [31, 32, 33, 34, 35, 36, 37, 38, 39, 40, 41, 42, 43, 44, 45, 46, 47, 48, 49],\n",
    "          'min_samples_leaf': [5, 6, 7, 8, 9, 10, 11, 12, 13, 14, 15, 16, 17, 18, 19, 20, 21, 22, 23, 24, 25, 26, 27, 28, 29, 30, 31, 32, 33, 34, 35, 36, 37, 38, 39], \n",
    "          'l2_regularization': np.array([0.        , 0.13793103, 0.27586207, 0.4137931 , 0.55172414,\n",
    "       0.68965517, 0.82758621, 0.96551724, 1.10344828, 1.24137931,\n",
    "       1.37931034, 1.51724138, 1.65517241, 1.79310345, 1.93103448,\n",
    "       2.06896552, 2.20689655, 2.34482759, 2.48275862, 2.62068966,\n",
    "       2.75862069, 2.89655172, 3.03448276, 3.17241379, 3.31034483,\n",
    "       3.44827586, 3.5862069 , 3.72413793, 3.86206897, 4.        ]),\n",
    "         'validation_fraction': [0.1, 0.2, 0.3, 0.4]}\n",
    "\n",
    "\n",
    "with parallel_backend('loky'):\n",
    "    X_train, X_test, y_train, y_test = train_test_split(X, y, test_size=0.33, random_state=42)\n",
    "    \n",
    "    fets = list(X_train.columns)\n",
    "    cat_idx = []\n",
    "    for c,m in enumerate(fets):\n",
    "        if m in category_columns:\n",
    "            cat_idx.append(c)\n",
    "    hgbrt = HistGradientBoostingRegressor(loss='squared_error',\n",
    "                max_bins=255,\n",
    "                categorical_features=cat_idx,\n",
    "                early_stopping='auto',\n",
    "                scoring=rmse,\n",
    "                n_iter_no_change=50,\n",
    "                random_state=42,)\n",
    "    histr = HalvingRandomSearchCV(hgbrt,param_distributions=params,random_state=0,scoring=rmse,n_jobs=-1,return_train_score=True)\n",
    "    histr.fit(X_train,y_train)\n",
    "    rmse = mean_squared_error(histr.predict(X_test),y_test,squared=False)\n",
    "    X_y__ = data.loc[F_dirty['F_1_10'], :]\n",
    "    X__ = X_y__.drop(['F_1_10'],axis=1)\n",
    "    y__ = X_y__['F_1_10']\n",
    "    y2 = chd.loc[X__.index,'F_1_10']\n",
    "    y_pred = histr.predict(X__)"
   ]
  },
  {
   "cell_type": "code",
   "execution_count": 67,
   "id": "687f58fb-5d92-401e-af1a-259706797327",
   "metadata": {},
   "outputs": [],
   "source": [
    "from sklearn.metrics import make_scorer\n"
   ]
  },
  {
   "cell_type": "code",
   "execution_count": 73,
   "id": "e196d7a5-948e-4c65-b6e6-a74f3f61ec29",
   "metadata": {},
   "outputs": [
    {
     "name": "stdout",
     "output_type": "stream",
     "text": [
      "{'learning_rate': [1.0, 0.1, 0.010000000000000002, 0.0010000000000000002], 'max_iter': [20, 30, 40], 'max_leaf_nodes': [31, 32, 33, 34, 35, 36, 37, 38, 39, 40, 41, 42, 43, 44, 45, 46, 47, 48, 49], 'min_samples_leaf': [5, 6, 7, 8, 9, 10, 11, 12, 13, 14, 15, 16, 17, 18, 19, 20, 21, 22, 23, 24, 25, 26, 27, 28, 29, 30, 31, 32, 33, 34, 35, 36, 37, 38, 39], 'l2_regularization': array([0.        , 0.13793103, 0.27586207, 0.4137931 , 0.55172414,\n",
      "       0.68965517, 0.82758621, 0.96551724, 1.10344828, 1.24137931,\n",
      "       1.37931034, 1.51724138, 1.65517241, 1.79310345, 1.93103448,\n",
      "       2.06896552, 2.20689655, 2.34482759, 2.48275862, 2.62068966,\n",
      "       2.75862069, 2.89655172, 3.03448276, 3.17241379, 3.31034483,\n",
      "       3.44827586, 3.5862069 , 3.72413793, 3.86206897, 4.        ]), 'max_bins': 255, 'early_stopping': 'auto', 'validation_fraction': [0.1, 0.2, 0.3, 0.4]}\n"
     ]
    }
   ],
   "source": [
    "params = dict(learning_rate=[0.1**i for i in range(4)],\n",
    "    max_iter=[10*i for i in range(2,5)],\n",
    "    max_leaf_nodes=[i for i in range(31,50)],\n",
    "    min_samples_leaf=[i for i in range(5,40)],\n",
    "    l2_regularization=np.linspace(0,4,num=30),\n",
    "    max_bins=255,\n",
    "    early_stopping='auto',\n",
    "    validation_fraction=[0.1,0.2,0.3,0.4],)\n",
    "print(params)"
   ]
  },
  {
   "cell_type": "code",
   "execution_count": 58,
   "id": "5dbfcc85-0bb2-4fff-880c-0746430f3b59",
   "metadata": {},
   "outputs": [
    {
     "data": {
      "text/plain": [
       "1437"
      ]
     },
     "execution_count": 58,
     "metadata": {},
     "output_type": "execute_result"
    }
   ],
   "source": [
    "c_y = chd.loc[X_test.index,'F_1_10']\n",
    "import gc\n",
    "gc.collect()"
   ]
  },
  {
   "cell_type": "code",
   "execution_count": 62,
   "id": "72798d5f-f2e8-4412-8ddd-7a889ff631c1",
   "metadata": {},
   "outputs": [],
   "source": [
    "X_y__ = data.loc[F_dirty['F_1_10'], :]\n",
    "X__ = X_y__.drop(['F_1_10'],axis=1)\n",
    "y__ = X_y__['F_1_10']\n",
    "y2 = chd.loc[X__.index,'F_1_10']\n",
    "y_pred = histr.predict(X__)"
   ]
  },
  {
   "cell_type": "code",
   "execution_count": 63,
   "id": "5c8d7f94-17e7-4475-b229-123891858b06",
   "metadata": {},
   "outputs": [
    {
     "data": {
      "text/plain": [
       "0.001906206689521487"
      ]
     },
     "execution_count": 63,
     "metadata": {},
     "output_type": "execute_result"
    }
   ],
   "source": [
    "mean_squared_error(y2,y_pred,squared=False)"
   ]
  },
  {
   "cell_type": "code",
   "execution_count": 68,
   "id": "bf30cb60-3101-4809-8cb1-d5282fde5c78",
   "metadata": {},
   "outputs": [
    {
     "data": {
      "text/plain": [
       "\u001b[0;31mInit signature:\u001b[0m\n",
       "\u001b[0mHalvingRandomSearchCV\u001b[0m\u001b[0;34m(\u001b[0m\u001b[0;34m\u001b[0m\n",
       "\u001b[0;34m\u001b[0m    \u001b[0mestimator\u001b[0m\u001b[0;34m,\u001b[0m\u001b[0;34m\u001b[0m\n",
       "\u001b[0;34m\u001b[0m    \u001b[0mparam_distributions\u001b[0m\u001b[0;34m,\u001b[0m\u001b[0;34m\u001b[0m\n",
       "\u001b[0;34m\u001b[0m    \u001b[0;34m*\u001b[0m\u001b[0;34m,\u001b[0m\u001b[0;34m\u001b[0m\n",
       "\u001b[0;34m\u001b[0m    \u001b[0mn_candidates\u001b[0m\u001b[0;34m=\u001b[0m\u001b[0;34m'exhaust'\u001b[0m\u001b[0;34m,\u001b[0m\u001b[0;34m\u001b[0m\n",
       "\u001b[0;34m\u001b[0m    \u001b[0mfactor\u001b[0m\u001b[0;34m=\u001b[0m\u001b[0;36m3\u001b[0m\u001b[0;34m,\u001b[0m\u001b[0;34m\u001b[0m\n",
       "\u001b[0;34m\u001b[0m    \u001b[0mresource\u001b[0m\u001b[0;34m=\u001b[0m\u001b[0;34m'n_samples'\u001b[0m\u001b[0;34m,\u001b[0m\u001b[0;34m\u001b[0m\n",
       "\u001b[0;34m\u001b[0m    \u001b[0mmax_resources\u001b[0m\u001b[0;34m=\u001b[0m\u001b[0;34m'auto'\u001b[0m\u001b[0;34m,\u001b[0m\u001b[0;34m\u001b[0m\n",
       "\u001b[0;34m\u001b[0m    \u001b[0mmin_resources\u001b[0m\u001b[0;34m=\u001b[0m\u001b[0;34m'smallest'\u001b[0m\u001b[0;34m,\u001b[0m\u001b[0;34m\u001b[0m\n",
       "\u001b[0;34m\u001b[0m    \u001b[0maggressive_elimination\u001b[0m\u001b[0;34m=\u001b[0m\u001b[0;32mFalse\u001b[0m\u001b[0;34m,\u001b[0m\u001b[0;34m\u001b[0m\n",
       "\u001b[0;34m\u001b[0m    \u001b[0mcv\u001b[0m\u001b[0;34m=\u001b[0m\u001b[0;36m5\u001b[0m\u001b[0;34m,\u001b[0m\u001b[0;34m\u001b[0m\n",
       "\u001b[0;34m\u001b[0m    \u001b[0mscoring\u001b[0m\u001b[0;34m=\u001b[0m\u001b[0;32mNone\u001b[0m\u001b[0;34m,\u001b[0m\u001b[0;34m\u001b[0m\n",
       "\u001b[0;34m\u001b[0m    \u001b[0mrefit\u001b[0m\u001b[0;34m=\u001b[0m\u001b[0;32mTrue\u001b[0m\u001b[0;34m,\u001b[0m\u001b[0;34m\u001b[0m\n",
       "\u001b[0;34m\u001b[0m    \u001b[0merror_score\u001b[0m\u001b[0;34m=\u001b[0m\u001b[0mnan\u001b[0m\u001b[0;34m,\u001b[0m\u001b[0;34m\u001b[0m\n",
       "\u001b[0;34m\u001b[0m    \u001b[0mreturn_train_score\u001b[0m\u001b[0;34m=\u001b[0m\u001b[0;32mTrue\u001b[0m\u001b[0;34m,\u001b[0m\u001b[0;34m\u001b[0m\n",
       "\u001b[0;34m\u001b[0m    \u001b[0mrandom_state\u001b[0m\u001b[0;34m=\u001b[0m\u001b[0;32mNone\u001b[0m\u001b[0;34m,\u001b[0m\u001b[0;34m\u001b[0m\n",
       "\u001b[0;34m\u001b[0m    \u001b[0mn_jobs\u001b[0m\u001b[0;34m=\u001b[0m\u001b[0;32mNone\u001b[0m\u001b[0;34m,\u001b[0m\u001b[0;34m\u001b[0m\n",
       "\u001b[0;34m\u001b[0m    \u001b[0mverbose\u001b[0m\u001b[0;34m=\u001b[0m\u001b[0;36m0\u001b[0m\u001b[0;34m,\u001b[0m\u001b[0;34m\u001b[0m\n",
       "\u001b[0;34m\u001b[0m\u001b[0;34m)\u001b[0m\u001b[0;34m\u001b[0m\u001b[0;34m\u001b[0m\u001b[0m\n",
       "\u001b[0;31mDocstring:\u001b[0m     \n",
       "Randomized search on hyper parameters.\n",
       "\n",
       "The search strategy starts evaluating all the candidates with a small\n",
       "amount of resources and iteratively selects the best candidates, using more\n",
       "and more resources.\n",
       "\n",
       "The candidates are sampled at random from the parameter space and the\n",
       "number of sampled candidates is determined by ``n_candidates``.\n",
       "\n",
       "Read more in the :ref:`User guide<successive_halving_user_guide>`.\n",
       "\n",
       ".. note::\n",
       "\n",
       "  This estimator is still **experimental** for now: the predictions\n",
       "  and the API might change without any deprecation cycle. To use it,\n",
       "  you need to explicitly import ``enable_halving_search_cv``::\n",
       "\n",
       "    >>> # explicitly require this experimental feature\n",
       "    >>> from sklearn.experimental import enable_halving_search_cv # noqa\n",
       "    >>> # now you can import normally from model_selection\n",
       "    >>> from sklearn.model_selection import HalvingRandomSearchCV\n",
       "\n",
       "Parameters\n",
       "----------\n",
       "estimator : estimator object\n",
       "    This is assumed to implement the scikit-learn estimator interface.\n",
       "    Either estimator needs to provide a ``score`` function,\n",
       "    or ``scoring`` must be passed.\n",
       "\n",
       "param_distributions : dict\n",
       "    Dictionary with parameters names (string) as keys and distributions\n",
       "    or lists of parameters to try. Distributions must provide a ``rvs``\n",
       "    method for sampling (such as those from scipy.stats.distributions).\n",
       "    If a list is given, it is sampled uniformly.\n",
       "\n",
       "n_candidates : int, default='exhaust'\n",
       "    The number of candidate parameters to sample, at the first\n",
       "    iteration. Using 'exhaust' will sample enough candidates so that the\n",
       "    last iteration uses as many resources as possible, based on\n",
       "    `min_resources`, `max_resources` and `factor`. In this case,\n",
       "    `min_resources` cannot be 'exhaust'.\n",
       "\n",
       "factor : int or float, default=3\n",
       "    The 'halving' parameter, which determines the proportion of candidates\n",
       "    that are selected for each subsequent iteration. For example,\n",
       "    ``factor=3`` means that only one third of the candidates are selected.\n",
       "\n",
       "resource : ``'n_samples'`` or str, default='n_samples'\n",
       "    Defines the resource that increases with each iteration. By default,\n",
       "    the resource is the number of samples. It can also be set to any\n",
       "    parameter of the base estimator that accepts positive integer\n",
       "    values, e.g. 'n_iterations' or 'n_estimators' for a gradient\n",
       "    boosting estimator. In this case ``max_resources`` cannot be 'auto'\n",
       "    and must be set explicitly.\n",
       "\n",
       "max_resources : int, default='auto'\n",
       "    The maximum number of resources that any candidate is allowed to use\n",
       "    for a given iteration. By default, this is set ``n_samples`` when\n",
       "    ``resource='n_samples'`` (default), else an error is raised.\n",
       "\n",
       "min_resources : {'exhaust', 'smallest'} or int, default='smallest'\n",
       "    The minimum amount of resource that any candidate is allowed to use\n",
       "    for a given iteration. Equivalently, this defines the amount of\n",
       "    resources `r0` that are allocated for each candidate at the first\n",
       "    iteration.\n",
       "\n",
       "    - 'smallest' is a heuristic that sets `r0` to a small value:\n",
       "\n",
       "        - ``n_splits * 2`` when ``resource='n_samples'`` for a regression\n",
       "          problem\n",
       "        - ``n_classes * n_splits * 2`` when ``resource='n_samples'`` for a\n",
       "          classification problem\n",
       "        - ``1`` when ``resource != 'n_samples'``\n",
       "\n",
       "    - 'exhaust' will set `r0` such that the **last** iteration uses as\n",
       "      much resources as possible. Namely, the last iteration will use the\n",
       "      highest value smaller than ``max_resources`` that is a multiple of\n",
       "      both ``min_resources`` and ``factor``. In general, using 'exhaust'\n",
       "      leads to a more accurate estimator, but is slightly more time\n",
       "      consuming. 'exhaust' isn't available when `n_candidates='exhaust'`.\n",
       "\n",
       "    Note that the amount of resources used at each iteration is always a\n",
       "    multiple of ``min_resources``.\n",
       "\n",
       "aggressive_elimination : bool, default=False\n",
       "    This is only relevant in cases where there isn't enough resources to\n",
       "    reduce the remaining candidates to at most `factor` after the last\n",
       "    iteration. If ``True``, then the search process will 'replay' the\n",
       "    first iteration for as long as needed until the number of candidates\n",
       "    is small enough. This is ``False`` by default, which means that the\n",
       "    last iteration may evaluate more than ``factor`` candidates. See\n",
       "    :ref:`aggressive_elimination` for more details.\n",
       "\n",
       "cv : int, cross-validation generator or an iterable, default=5\n",
       "    Determines the cross-validation splitting strategy.\n",
       "    Possible inputs for cv are:\n",
       "\n",
       "    - integer, to specify the number of folds in a `(Stratified)KFold`,\n",
       "    - :term:`CV splitter`,\n",
       "    - An iterable yielding (train, test) splits as arrays of indices.\n",
       "\n",
       "    For integer/None inputs, if the estimator is a classifier and ``y`` is\n",
       "    either binary or multiclass, :class:`StratifiedKFold` is used. In all\n",
       "    other cases, :class:`KFold` is used. These splitters are instantiated\n",
       "    with `shuffle=False` so the splits will be the same across calls.\n",
       "\n",
       "    Refer :ref:`User Guide <cross_validation>` for the various\n",
       "    cross-validation strategies that can be used here.\n",
       "\n",
       "    .. note::\n",
       "        Due to implementation details, the folds produced by `cv` must be\n",
       "        the same across multiple calls to `cv.split()`. For\n",
       "        built-in `scikit-learn` iterators, this can be achieved by\n",
       "        deactivating shuffling (`shuffle=False`), or by setting the\n",
       "        `cv`'s `random_state` parameter to an integer.\n",
       "\n",
       "scoring : str, callable, or None, default=None\n",
       "    A single string (see :ref:`scoring_parameter`) or a callable\n",
       "    (see :ref:`scoring`) to evaluate the predictions on the test set.\n",
       "    If None, the estimator's score method is used.\n",
       "\n",
       "refit : bool, default=True\n",
       "    If True, refit an estimator using the best found parameters on the\n",
       "    whole dataset.\n",
       "\n",
       "    The refitted estimator is made available at the ``best_estimator_``\n",
       "    attribute and permits using ``predict`` directly on this\n",
       "    ``HalvingRandomSearchCV`` instance.\n",
       "\n",
       "error_score : 'raise' or numeric\n",
       "    Value to assign to the score if an error occurs in estimator fitting.\n",
       "    If set to 'raise', the error is raised. If a numeric value is given,\n",
       "    FitFailedWarning is raised. This parameter does not affect the refit\n",
       "    step, which will always raise the error. Default is ``np.nan``.\n",
       "\n",
       "return_train_score : bool, default=False\n",
       "    If ``False``, the ``cv_results_`` attribute will not include training\n",
       "    scores.\n",
       "    Computing training scores is used to get insights on how different\n",
       "    parameter settings impact the overfitting/underfitting trade-off.\n",
       "    However computing the scores on the training set can be computationally\n",
       "    expensive and is not strictly required to select the parameters that\n",
       "    yield the best generalization performance.\n",
       "\n",
       "random_state : int, RandomState instance or None, default=None\n",
       "    Pseudo random number generator state used for subsampling the dataset\n",
       "    when `resources != 'n_samples'`. Also used for random uniform\n",
       "    sampling from lists of possible values instead of scipy.stats\n",
       "    distributions.\n",
       "    Pass an int for reproducible output across multiple function calls.\n",
       "    See :term:`Glossary <random_state>`.\n",
       "\n",
       "n_jobs : int or None, default=None\n",
       "    Number of jobs to run in parallel.\n",
       "    ``None`` means 1 unless in a :obj:`joblib.parallel_backend` context.\n",
       "    ``-1`` means using all processors. See :term:`Glossary <n_jobs>`\n",
       "    for more details.\n",
       "\n",
       "verbose : int\n",
       "    Controls the verbosity: the higher, the more messages.\n",
       "\n",
       "Attributes\n",
       "----------\n",
       "n_resources_ : list of int\n",
       "    The amount of resources used at each iteration.\n",
       "\n",
       "n_candidates_ : list of int\n",
       "    The number of candidate parameters that were evaluated at each\n",
       "    iteration.\n",
       "\n",
       "n_remaining_candidates_ : int\n",
       "    The number of candidate parameters that are left after the last\n",
       "    iteration. It corresponds to `ceil(n_candidates[-1] / factor)`\n",
       "\n",
       "max_resources_ : int\n",
       "    The maximum number of resources that any candidate is allowed to use\n",
       "    for a given iteration. Note that since the number of resources used at\n",
       "    each iteration must be a multiple of ``min_resources_``, the actual\n",
       "    number of resources used at the last iteration may be smaller than\n",
       "    ``max_resources_``.\n",
       "\n",
       "min_resources_ : int\n",
       "    The amount of resources that are allocated for each candidate at the\n",
       "    first iteration.\n",
       "\n",
       "n_iterations_ : int\n",
       "    The actual number of iterations that were run. This is equal to\n",
       "    ``n_required_iterations_`` if ``aggressive_elimination`` is ``True``.\n",
       "    Else, this is equal to ``min(n_possible_iterations_,\n",
       "    n_required_iterations_)``.\n",
       "\n",
       "n_possible_iterations_ : int\n",
       "    The number of iterations that are possible starting with\n",
       "    ``min_resources_`` resources and without exceeding\n",
       "    ``max_resources_``.\n",
       "\n",
       "n_required_iterations_ : int\n",
       "    The number of iterations that are required to end up with less than\n",
       "    ``factor`` candidates at the last iteration, starting with\n",
       "    ``min_resources_`` resources. This will be smaller than\n",
       "    ``n_possible_iterations_`` when there isn't enough resources.\n",
       "\n",
       "cv_results_ : dict of numpy (masked) ndarrays\n",
       "    A dict with keys as column headers and values as columns, that can be\n",
       "    imported into a pandas ``DataFrame``. It contains lots of information\n",
       "    for analysing the results of a search.\n",
       "    Please refer to the :ref:`User guide<successive_halving_cv_results>`\n",
       "    for details.\n",
       "\n",
       "best_estimator_ : estimator or dict\n",
       "    Estimator that was chosen by the search, i.e. estimator\n",
       "    which gave highest score (or smallest loss if specified)\n",
       "    on the left out data. Not available if ``refit=False``.\n",
       "\n",
       "best_score_ : float\n",
       "    Mean cross-validated score of the best_estimator.\n",
       "\n",
       "best_params_ : dict\n",
       "    Parameter setting that gave the best results on the hold out data.\n",
       "\n",
       "best_index_ : int\n",
       "    The index (of the ``cv_results_`` arrays) which corresponds to the best\n",
       "    candidate parameter setting.\n",
       "\n",
       "    The dict at ``search.cv_results_['params'][search.best_index_]`` gives\n",
       "    the parameter setting for the best model, that gives the highest\n",
       "    mean score (``search.best_score_``).\n",
       "\n",
       "scorer_ : function or a dict\n",
       "    Scorer function used on the held out data to choose the best\n",
       "    parameters for the model.\n",
       "\n",
       "n_splits_ : int\n",
       "    The number of cross-validation splits (folds/iterations).\n",
       "\n",
       "refit_time_ : float\n",
       "    Seconds used for refitting the best model on the whole dataset.\n",
       "\n",
       "    This is present only if ``refit`` is not False.\n",
       "\n",
       "multimetric_ : bool\n",
       "    Whether or not the scorers compute several metrics.\n",
       "\n",
       "classes_ : ndarray of shape (n_classes,)\n",
       "    The classes labels. This is present only if ``refit`` is specified and\n",
       "    the underlying estimator is a classifier.\n",
       "\n",
       "n_features_in_ : int\n",
       "    Number of features seen during :term:`fit`. Only defined if\n",
       "    `best_estimator_` is defined (see the documentation for the `refit`\n",
       "    parameter for more details) and that `best_estimator_` exposes\n",
       "    `n_features_in_` when fit.\n",
       "\n",
       "    .. versionadded:: 0.24\n",
       "\n",
       "feature_names_in_ : ndarray of shape (`n_features_in_`,)\n",
       "    Names of features seen during :term:`fit`. Only defined if\n",
       "    `best_estimator_` is defined (see the documentation for the `refit`\n",
       "    parameter for more details) and that `best_estimator_` exposes\n",
       "    `feature_names_in_` when fit.\n",
       "\n",
       "    .. versionadded:: 1.0\n",
       "\n",
       "See Also\n",
       "--------\n",
       ":class:`HalvingGridSearchCV`:\n",
       "    Search over a grid of parameters using successive halving.\n",
       "\n",
       "Notes\n",
       "-----\n",
       "The parameters selected are those that maximize the score of the held-out\n",
       "data, according to the scoring parameter.\n",
       "\n",
       "Examples\n",
       "--------\n",
       "\n",
       ">>> from sklearn.datasets import load_iris\n",
       ">>> from sklearn.ensemble import RandomForestClassifier\n",
       ">>> from sklearn.experimental import enable_halving_search_cv  # noqa\n",
       ">>> from sklearn.model_selection import HalvingRandomSearchCV\n",
       ">>> from scipy.stats import randint\n",
       ">>> import numpy as np\n",
       "...\n",
       ">>> X, y = load_iris(return_X_y=True)\n",
       ">>> clf = RandomForestClassifier(random_state=0)\n",
       ">>> np.random.seed(0)\n",
       "...\n",
       ">>> param_distributions = {\"max_depth\": [3, None],\n",
       "...                        \"min_samples_split\": randint(2, 11)}\n",
       ">>> search = HalvingRandomSearchCV(clf, param_distributions,\n",
       "...                                resource='n_estimators',\n",
       "...                                max_resources=10,\n",
       "...                                random_state=0).fit(X, y)\n",
       ">>> search.best_params_  # doctest: +SKIP\n",
       "{'max_depth': None, 'min_samples_split': 10, 'n_estimators': 9}\n",
       "\u001b[0;31mFile:\u001b[0m           /opt/myintel/intelpython/latest/envs/nntf/lib/python3.9/site-packages/sklearn/model_selection/_search_successive_halving.py\n",
       "\u001b[0;31mType:\u001b[0m           ABCMeta\n",
       "\u001b[0;31mSubclasses:\u001b[0m     \n"
      ]
     },
     "metadata": {},
     "output_type": "display_data"
    }
   ],
   "source": [
    "HalvingRandomSearchCV(hgbrt,param_distributions=params,random_state=0,scoring=rmse,n_jobs=-1,return_train_score=True)"
   ]
  },
  {
   "cell_type": "code",
   "execution_count": null,
   "id": "c6361723-74ec-48d5-8a97-ee0fbcd86345",
   "metadata": {},
   "outputs": [],
   "source": []
  }
 ],
 "metadata": {
  "kernelspec": {
   "display_name": "Python 3 (ipykernel)",
   "language": "python",
   "name": "python3"
  },
  "language_info": {
   "codemirror_mode": {
    "name": "ipython",
    "version": 3
   },
   "file_extension": ".py",
   "mimetype": "text/x-python",
   "name": "python",
   "nbconvert_exporter": "python",
   "pygments_lexer": "ipython3",
   "version": "3.9.10"
  }
 },
 "nbformat": 4,
 "nbformat_minor": 5
}
