{
 "cells": [
  {
   "cell_type": "markdown",
   "id": "df9e1d4d-84db-499f-a863-b4c0bc541aa2",
   "metadata": {},
   "source": [
    "Setup MODIN"
   ]
  },
  {
   "cell_type": "code",
   "execution_count": null,
   "id": "97e1f612-896a-4487-a91b-87d78646a2d4",
   "metadata": {},
   "outputs": [],
   "source": [
    "import os\n",
    "\n",
    "os.environ[\"MODIN_ENGINE\"] = \"dask\"  # Modin will use Dask\n",
    "\n",
    "import pandas as pd"
   ]
  },
  {
   "cell_type": "markdown",
   "id": "6d1a1fda-ff13-4e21-a6a3-09aa45eeec19",
   "metadata": {},
   "source": [
    "Import Libraries"
   ]
  },
  {
   "cell_type": "code",
   "execution_count": null,
   "id": "2371a663-01fd-4e3f-9d8d-c941aad2af87",
   "metadata": {},
   "outputs": [],
   "source": [
    "import numpy as np\n",
    "import warnings\n",
    "import matplotlib.pyplot as plt\n",
    "warnings.filterwarnings('ignore')\n",
    "pd.options.display.max_columns = 80\n",
    "pd.options.display.max_rows = 80\n",
    "import seaborn as sns\n",
    "%matplotlib inline\n",
    "sns.set()\n",
    "def dfy(s):\n",
    "    return pd.DataFrame(s)"
   ]
  },
  {
   "cell_type": "code",
   "execution_count": null,
   "id": "37c237bf-854b-4d78-a9cf-61803350f3ea",
   "metadata": {},
   "outputs": [],
   "source": [
    "data = pd.read_pickle('cooked.pkl')"
   ]
  },
  {
   "cell_type": "code",
   "execution_count": null,
   "id": "9b4337c5-f41c-4757-9252-df55cddb9008",
   "metadata": {},
   "outputs": [],
   "source": [
    "dm_1 = data[data.missing_cols==1]\n",
    "dc = data[data.missing_cols==0]"
   ]
  },
  {
   "cell_type": "markdown",
   "id": "7dcb1b0f-7baf-40f4-abe6-dc5561b5d328",
   "metadata": {
    "jp-MarkdownHeadingCollapsed": true,
    "tags": []
   },
   "source": [
    "#### Make datasets for single column learning<br>\n",
    " - Methods possible other than imputation:\n",
    " - PCA(dimensionality reduction)\n",
    " - feature elimination\n",
    "\n",
    "Initial Steps<br>\n",
    " - [F]_clean stores indexes where each column is not missing\n",
    " - Separate them based on number of missing columns in each row"
   ]
  },
  {
   "cell_type": "code",
   "execution_count": null,
   "id": "7b480a42-2f9a-4427-a373-511180b9a731",
   "metadata": {},
   "outputs": [],
   "source": [
    "missing_ = data.isna().sum(axis=0)\n",
    "missing_features = np.array(missing_[missing_ > 0].index)"
   ]
  },
  {
   "cell_type": "markdown",
   "id": "800b4056-f9bb-4a81-bba7-abbc8b935dbd",
   "metadata": {},
   "source": [
    "    missing_features = array(['F_1_0', 'F_1_1', 'F_1_2', 'F_1_3', 'F_1_4', 'F_1_5', 'F_1_6',\n",
    "       'F_1_7', 'F_1_8', 'F_1_9', 'F_1_10', 'F_1_11', 'F_1_12', 'F_1_13',\n",
    "       'F_1_14', 'F_3_0', 'F_3_1', 'F_3_2', 'F_3_3', 'F_3_4', 'F_3_5',\n",
    "       'F_3_6', 'F_3_7', 'F_3_8', 'F_3_9', 'F_3_10', 'F_3_11', 'F_3_12',\n",
    "       'F_3_13', 'F_3_14', 'F_3_15', 'F_3_16', 'F_3_17', 'F_3_18',\n",
    "       'F_3_19', 'F_3_20', 'F_3_21', 'F_3_22', 'F_3_23', 'F_3_24',\n",
    "       'F_4_0', 'F_4_1', 'F_4_2', 'F_4_3', 'F_4_4', 'F_4_5', 'F_4_6',\n",
    "       'F_4_7', 'F_4_8', 'F_4_9', 'F_4_10', 'F_4_11', 'F_4_12', 'F_4_13',\n",
    "       'F_4_14'], dtype=object)"
   ]
  },
  {
   "cell_type": "code",
   "execution_count": null,
   "id": "23f9e512-d101-44d2-b685-a21139f4a2c2",
   "metadata": {},
   "outputs": [],
   "source": [
    "F_clean = {f:data[data[f].isna()==False].index for f in missing_features}\n",
    "F_dirty = {f:data[data[f].isna()].index for f in missing_features}"
   ]
  },
  {
   "cell_type": "code",
   "execution_count": null,
   "id": "33535c1c-cf2e-48e2-b1b2-f149f0849d00",
   "metadata": {},
   "outputs": [],
   "source": [
    "missing_.sort_values(inplace=True)"
   ]
  },
  {
   "cell_type": "markdown",
   "id": "ab6cfc9b-8557-4fbd-9799-913b804cee22",
   "metadata": {
    "tags": []
   },
   "source": [
    "#### Missing Data Distribution\n",
    "![Image](missing_data_distribution.png)"
   ]
  },
  {
   "cell_type": "markdown",
   "id": "7f4d0a18-274e-44db-92a6-856e556c6325",
   "metadata": {
    "tags": []
   },
   "source": [
    "#### Densities of the least missing features\n",
    "##### F_1_10 and F_4_4\n",
    "![Image](F_1_0density.png)![Image](F_4_4.png)"
   ]
  },
  {
   "cell_type": "code",
   "execution_count": null,
   "id": "6c32d66a-9601-4dc0-99bf-21fb2a5dd6fa",
   "metadata": {},
   "outputs": [],
   "source": [
    "training_order = missing_.index"
   ]
  },
  {
   "cell_type": "markdown",
   "id": "f6fde632-4c3a-473a-802e-99f0fc6f7338",
   "metadata": {
    "jp-MarkdownHeadingCollapsed": true,
    "tags": []
   },
   "source": [
    "#### Next Steps \n",
    " - Developed Training Order\n",
    " - need to examine predictability of lower features "
   ]
  },
  {
   "cell_type": "code",
   "execution_count": null,
   "id": "cfc02794-3442-4b0a-8a01-d8afc77784fd",
   "metadata": {},
   "outputs": [],
   "source": [
    "def feature_correlations(f_):\n",
    "    clean_f110 =dc[f_].copy()\n",
    "    # dc_corr = dc.corrwith(clean_f110, axis=1)\n",
    "    # fig = sns.heatmap(dc_corr)\n",
    "    correls_clean_f110 = {}\n",
    "    for f in dc.columns:\n",
    "        if f != f_:\n",
    "            correls_clean_f110[f] = np.corrcoef(clean_f110,dc[f])[0][1]\n",
    "    correls_clean_f110.pop('missing_cols')\n",
    "\n",
    "    plt.figure(figsize=(18,18))\n",
    "    fig = sns.barplot(y=list(correls_clean_f110.keys()),x=list(correls_clean_f110.values()), orient='h')"
   ]
  },
  {
   "cell_type": "markdown",
   "id": "5dd23dec-0c1d-4f82-a99b-68905b981b5f",
   "metadata": {
    "tags": []
   },
   "source": [
    "#### Feature correlations('F_1_10')\n",
    "![Image](feature_correlations('F_1_10').png)"
   ]
  },
  {
   "cell_type": "markdown",
   "id": "51808c20-2d94-401e-b7d6-f1e41b1cf53d",
   "metadata": {
    "jp-MarkdownHeadingCollapsed": true,
    "tags": []
   },
   "source": [
    "#### Feature correlations('F_4_4')\n",
    "![Image](feature_correlations('F_4_4').png)"
   ]
  },
  {
   "cell_type": "code",
   "execution_count": null,
   "id": "cc2c7c40-eaa0-404d-a130-1204b6627788",
   "metadata": {},
   "outputs": [],
   "source": [
    "# Correlation in different scenarios\n",
    "corr_data = data.drop(['missing_cols'],axis=1).corr()\n",
    "corr_clean = dc.drop(['missing_cols'],axis=1).corr()"
   ]
  },
  {
   "cell_type": "code",
   "execution_count": null,
   "id": "52ae17a8-85dd-40f2-9fc8-92c5bb0d1ab8",
   "metadata": {},
   "outputs": [],
   "source": [
    "# percent_diff_in_correlation\n",
    "pdic = (corr_data.abs() - corr_clean.abs())/corr_clean.abs()"
   ]
  },
  {
   "cell_type": "code",
   "execution_count": null,
   "id": "5d0a892d-db10-4080-9fc4-9dbc84f57b94",
   "metadata": {},
   "outputs": [],
   "source": [
    "# finding the columns with maximum and minimum change\n",
    "correlation_variance_cols = {}\n",
    "for f in pdic.columns:\n",
    "    pdic_np = pdic[f].to_numpy()\n",
    "    correlation_variance_cols[f] = {'max_col': percent_diff_in_correlation.columns[pdic_np.argmax()],\n",
    "                               'min_col':percent_diff_in_correlation.columns[pdic_np.argmin()]}"
   ]
  },
  {
   "cell_type": "code",
   "execution_count": null,
   "id": "3f3cc946-7403-421b-b034-52c5018b19b5",
   "metadata": {},
   "outputs": [],
   "source": [
    "dfy(correlation_variance_cols)"
   ]
  },
  {
   "cell_type": "code",
   "execution_count": null,
   "id": "9939925a-a6da-4c3f-933c-94c7b44f70eb",
   "metadata": {},
   "outputs": [],
   "source": [
    "# finding the magitude\n",
    "variation_magnitude={}\n",
    "for f in pdic.columns:\n",
    "    pdic_np = pdic[f].to_numpy()\n",
    "    variation_magnitude[f] = {'max_col': pdic_np.max(),\n",
    "                               'min_col':pdic_np.min()}"
   ]
  },
  {
   "cell_type": "code",
   "execution_count": null,
   "id": "a68b0d9d-e066-469d-abc3-4018a48cb496",
   "metadata": {},
   "outputs": [],
   "source": [
    "dfy(variation_magnitude)"
   ]
  },
  {
   "cell_type": "code",
   "execution_count": null,
   "id": "7ab7fa7f-3ec3-4f43-a1bd-2494e608104b",
   "metadata": {},
   "outputs": [],
   "source": [
    "sns.set()\n",
    "fig = dfy(variation_magnitude).loc['min_col',:].abs().sort_values().plot(kind='barh',figsize=(10,10), title='Minimum Variation in Correlation  Observed',xlim=(0.6,1.1),colormap='inferno')"
   ]
  },
  {
   "cell_type": "markdown",
   "id": "bca97d3e-2406-4ecf-817d-d42c0c8eaf61",
   "metadata": {
    "jp-MarkdownHeadingCollapsed": true,
    "tags": []
   },
   "source": [
    "#### Correlations EDA\n",
    "![Image](max_corr_var.png)\n",
    "![Image](sdfs.png)\n"
   ]
  },
  {
   "cell_type": "markdown",
   "id": "a9d88e6e-7a39-4bbe-b37c-71935d6609e2",
   "metadata": {},
   "source": [
    ">Correlation in total Data vs Correlation in non-missing data slice varies heavily for certain features\n",
    ">>Deviation_distance is needed for exploration"
   ]
  },
  {
   "cell_type": "code",
   "execution_count": null,
   "id": "95ccf8fb-7630-4f67-8146-d12aeb881a37",
   "metadata": {},
   "outputs": [],
   "source": [
    "correlation_vector_distance = {}\n",
    "for f in pdic.columns:\n",
    "    pdic_np = pdic[f].to_numpy()\n",
    "    correlation_vector_distance[f] = np.linalg.norm(pdic_np)**0.5"
   ]
  },
  {
   "cell_type": "code",
   "execution_count": null,
   "id": "43b52a8d-186b-4f37-9f04-5cdbc4b33616",
   "metadata": {},
   "outputs": [],
   "source": [
    "# dfy(correlation_vector_distance)\n",
    "# correlation_vector_distance\n",
    "plt.figure(figsize=(50,5))\n",
    "# sns.color_palette = 'inferno'\n",
    "sns.barplot(x = list(correlation_vector_distance.keys()),y=list(correlation_vector_distance.values()))\n",
    "fig=sns.lineplot(x= list(correlation_vector_distance.keys()),y=np.ones(55)*7.5,color='red',linewidth = 1.5)"
   ]
  },
  {
   "cell_type": "markdown",
   "id": "610b0fbb-17d4-482b-9d46-72b724165310",
   "metadata": {},
   "source": [
    "#### Deviation Distance\n",
    "![Image](devd-Copy1.png)"
   ]
  },
  {
   "cell_type": "code",
   "execution_count": null,
   "id": "0d9112b4-ca45-49e5-a923-e2f3774c714c",
   "metadata": {},
   "outputs": [],
   "source": [
    "len(correlation_vector_distance.keys())"
   ]
  },
  {
   "cell_type": "code",
   "execution_count": null,
   "id": "b71150b9-f499-4427-bbed-3272da78ec81",
   "metadata": {},
   "outputs": [],
   "source": [
    "np.ones(55)*7.5"
   ]
  },
  {
   "cell_type": "code",
   "execution_count": null,
   "id": "18c55851-a3f7-4f7f-979a-b9f85b41eba8",
   "metadata": {},
   "outputs": [],
   "source": []
  }
 ],
 "metadata": {
  "kernelspec": {
   "display_name": "Python 3 (ipykernel)",
   "language": "python",
   "name": "python3"
  },
  "language_info": {
   "codemirror_mode": {
    "name": "ipython",
    "version": 3
   },
   "file_extension": ".py",
   "mimetype": "text/x-python",
   "name": "python",
   "nbconvert_exporter": "python",
   "pygments_lexer": "ipython3",
   "version": "3.9.10"
  }
 },
 "nbformat": 4,
 "nbformat_minor": 5
}
