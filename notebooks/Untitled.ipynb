{
 "cells": [
  {
   "cell_type": "code",
   "execution_count": 6,
   "id": "1ea0868a-8f90-4740-a1bf-c0041db692c7",
   "metadata": {},
   "outputs": [],
   "source": [
    "import pickle\n",
    "import warnings\n",
    "\n",
    "import dpctl\n",
    "import numpy as np\n",
    "import pandas as pd\n",
    "from numba import jit, njit\n",
    "# cimport pandas as pd\n",
    "from sklearn.ensemble import RandomForestRegressor\n",
    "from sklearn.linear_model import PassiveAggressiveRegressor\n",
    "from sklearn.metrics import mean_squared_error\n",
    "from sklearn.model_selection import KFold\n",
    "from sklearn.neural_network import MLPRegressor\n",
    "from sklearn.pipeline import make_pipeline\n",
    "from sklearn.preprocessing import StandardScaler\n",
    "from sklearnex import patch_sklearn\n",
    "from sklearnex._device_offload import _get_device_info_from_daal4py\n",
    "from sklearnex.ensemble import RandomForestRegressor as rfe\n",
    "from sklearnex.model_selection import train_test_split"
   ]
  },
  {
   "cell_type": "code",
   "execution_count": 13,
   "id": "eef1b5a4-8e28-425a-a7ae-69f116860cce",
   "metadata": {},
   "outputs": [],
   "source": [
    "# df = pd.read_csv(\"data/data.csv\", index_col=0)\n",
    "# df[\"missing_cols\"] = df.isna().sum(axis=1)\n",
    "\n",
    "# def compress(_df: pd.DataFrame):\n",
    "#     fl = _df.select_dtypes(include=\"float64\")\n",
    "#     ins = _df.select_dtypes(include=\"int64\")\n",
    "#     for c in fl:\n",
    "#         _df[c] = _df[c].astype(np.float32)\n",
    "#     for c in ins:\n",
    "#         _df[c] = _df[c].astype(np.uint8)\n",
    "#     return _df"
   ]
  },
  {
   "cell_type": "code",
   "execution_count": 77,
   "id": "0626af9b-4a07-40b1-8e95-13d47cf68e17",
   "metadata": {},
   "outputs": [],
   "source": [
    "# df = compress(df)\n",
    "import os\n",
    "\n",
    "os.environ[\"NUMBA_PARALLEL_DIAGNOSTICS\"] = \"0\"\n",
    "os.environ[\"CC\"] = \"icx\"\n",
    "os.environ[\"CXX\"] = \"icpx\""
   ]
  },
  {
   "cell_type": "code",
   "execution_count": 2,
   "id": "ebab4519-1ad5-4f41-83a0-2666770349ee",
   "metadata": {},
   "outputs": [],
   "source": [
    "def conn():\n",
    "    with open(\"data.pkl\", \"rb\") as fp:\n",
    "        dpkl = pickle.load(fp)\n",
    "    return dpkl\n",
    "\n",
    "\n",
    "class DB:\n",
    "    def __init__(self):\n",
    "        self.df: pd.DataFrame = conn()\n",
    "        self.df: np.ndarray = self.df.to_numpy()\n",
    "        self.msd: np.array = self.pkload(\"missing_data\").to_numpy()\n",
    "        # removing the missing_cols\n",
    "\n",
    "    @staticmethod\n",
    "    def sv(data: pd.DataFrame, name: str):\n",
    "        with open(f\"{name}.pkl\", \"wb+\") as fp:\n",
    "            pickle.dump(data, fp)\n",
    "\n",
    "    @staticmethod\n",
    "    def pkload(fn):\n",
    "        with open(fn + \".pkl\", \"rb\") as fp:\n",
    "            data = pickle.load(fp)\n",
    "        return data\n",
    "\n",
    "\n",
    "if __name__ == \"__main__\":\n",
    "    pass"
   ]
  },
  {
   "cell_type": "code",
   "execution_count": 3,
   "id": "f6d9fe24-2d9e-4b22-bea8-59eb64bb862b",
   "metadata": {},
   "outputs": [],
   "source": [
    "d = DB()"
   ]
  },
  {
   "cell_type": "code",
   "execution_count": 22,
   "id": "2050d0aa-d456-40a4-af89-b4be99607f49",
   "metadata": {},
   "outputs": [],
   "source": [
    "# one feature missing\n",
    "ofm_idx = np.where(d.msd == 1)[0]"
   ]
  },
  {
   "cell_type": "code",
   "execution_count": 23,
   "id": "08ead8db-3dc1-4b08-84b5-45caa39c96b7",
   "metadata": {},
   "outputs": [],
   "source": [
    "clean_idx = np.where(d.msd == 0)[0]"
   ]
  },
  {
   "cell_type": "code",
   "execution_count": 24,
   "id": "63b0f927-8281-4328-b7fe-6a4e1ba35305",
   "metadata": {},
   "outputs": [],
   "source": [
    "pristine = d.ndf[clean_idx, :]"
   ]
  },
  {
   "cell_type": "markdown",
   "id": "c3daebdc-7a21-42f6-b872-36bc7d339ada",
   "metadata": {},
   "source": [
    "## Main"
   ]
  },
  {
   "cell_type": "code",
   "execution_count": 60,
   "id": "67922aa6-594e-4719-9bed-6fd98ff3fea7",
   "metadata": {},
   "outputs": [],
   "source": [
    "X_ = d.df\n",
    "# missings = X_[:, 80]\n",
    "\n",
    "\n",
    "@njit(parallel=True)\n",
    "def data_n_miss(n, x=X_):\n",
    "    # data with x features simultaneously missing\n",
    "    t = x[:, 80]\n",
    "    idx = np.where(t == n)[0]\n",
    "    return x[idx, :80]\n",
    "\n",
    "\n",
    "@njit(parallel=True)\n",
    "def feat_n_miss(n, cc, x=X_):\n",
    "    # Index of incomplete features\n",
    "    feed: np.ndarray = np.isnan(cc).sum(axis=0)\n",
    "    feat_idx = np.where(feed > 0)[0]\n",
    "    return feat_idx\n",
    "\n",
    "\n",
    "@njit(parallel=True)\n",
    "def feat_x_nan_idx(feature, cc):\n",
    "    # cc data_n_miss\n",
    "    # return the indices of data missing \"x\" feature\n",
    "    cl_ = cc[:, feature]\n",
    "    return np.where(np.isnan(cl_))[0]\n",
    "\n",
    "\n",
    "# clean data\n",
    "dcl = data_n_miss(0)\n",
    "dcl_1 = data_n_miss(1)"
   ]
  },
  {
   "cell_type": "markdown",
   "id": "c22b0cf3-b594-44a1-8224-9142a0841882",
   "metadata": {},
   "source": [
    "#### Values Missing Per Column for records with exactly \"N\" col missing"
   ]
  },
  {
   "cell_type": "code",
   "execution_count": 24,
   "id": "71c3817a-c694-4255-8f9b-6ceee2975d72",
   "metadata": {},
   "outputs": [],
   "source": [
    "@jit(parallel=True)\n",
    "def find_total_missing_per_col(n):\n",
    "    df = data_n_miss(n)\n",
    "    null = np.isnan(df).sum(axis=0)\n",
    "    return null"
   ]
  },
  {
   "cell_type": "code",
   "execution_count": 35,
   "id": "1081c376-b0bc-465e-be1f-3a1cf93df60f",
   "metadata": {},
   "outputs": [
    {
     "data": {
      "text/plain": [
       "array([1, 1, 0, 0, 1, 1, 0, 0, 0, 1, 1, 0, 0, 0, 1, 0, 0, 0, 0, 0, 0, 0,\n",
       "       0, 0, 0, 0, 0, 0, 0, 0, 0, 0, 0, 0, 0, 0, 0, 0, 0, 0, 0, 1, 0, 1,\n",
       "       0, 0, 0, 0, 0, 0, 0, 1, 0, 1, 0, 1, 0, 0, 0, 0, 0, 0, 0, 1, 0, 1,\n",
       "       1, 0, 0, 0, 0, 1, 0, 0, 0, 0, 0, 1, 0, 1])"
      ]
     },
     "execution_count": 35,
     "metadata": {},
     "output_type": "execute_result"
    }
   ],
   "source": [
    "find_total_missing_per_col(9)"
   ]
  },
  {
   "cell_type": "code",
   "execution_count": 12,
   "id": "d5638f36-b7bd-48a9-80ea-8c7cfbf17b64",
   "metadata": {},
   "outputs": [
    {
     "data": {
      "text/plain": [
       "array([ 0,  1,  2,  3,  4,  5,  6,  7,  8,  9, 10, 11, 12, 13, 14, 40, 41,\n",
       "       42, 43, 44, 45, 46, 47, 48, 49, 50, 51, 52, 53, 54, 55, 56, 57, 58,\n",
       "       59, 60, 61, 62, 63, 64, 65, 66, 67, 68, 69, 70, 71, 72, 73, 74, 75,\n",
       "       76, 77, 78, 79])"
      ]
     },
     "execution_count": 12,
     "metadata": {},
     "output_type": "execute_result"
    }
   ],
   "source": [
    "feat_n_miss(1, data_n_miss(1))"
   ]
  },
  {
   "cell_type": "code",
   "execution_count": 145,
   "id": "c783b97f-7147-44ab-bb9c-6b9e7cde8385",
   "metadata": {},
   "outputs": [],
   "source": [
    "c = 1  # col_id\n",
    "n = 1  # num_col_missing\n",
    "ms = data_n_miss(n)\n",
    "fs = feat_n_miss(n, ms)"
   ]
  },
  {
   "cell_type": "code",
   "execution_count": 77,
   "id": "9a54b06b-5074-4cde-b9c4-ce8dee3e3722",
   "metadata": {},
   "outputs": [],
   "source": [
    "import seaborn as sns\n",
    "\n",
    "k = np.isnan(ms).sum(axis=0)\n",
    "sns.lineplot(x=list(range(80)), y=k)"
   ]
  },
  {
   "cell_type": "code",
   "execution_count": 133,
   "id": "3540e2cf-2bd5-4fd4-b6e3-c89748a0fb8f",
   "metadata": {},
   "outputs": [
    {
     "data": {
      "text/plain": [
       "<AxesSubplot:>"
      ]
     },
     "execution_count": 133,
     "metadata": {},
     "output_type": "execute_result"
    },
    {
     "data": {
      "image/png": "[encoded data removed]",
      "text/plain": [
       "<Figure size 432x288 with 1 Axes>"
      ]
     },
     "metadata": {},
     "output_type": "display_data"
    }
   ],
   "source": [
    "_y_, _x_ = np.histogram(dcl[:, 12])\n",
    "sns.lineplot(x=_x_[1:], y=_y_)"
   ]
  },
  {
   "cell_type": "code",
   "execution_count": 155,
   "id": "20a1632b-97ba-4495-bc37-7f600ff80b6f",
   "metadata": {},
   "outputs": [],
   "source": [
    "models = {}\n",
    "# F_1_0 to F_1_14\n",
    "# F_2_0 to F_2_24\n",
    "# F_3_0 to F_3_24\n",
    "# F_4_0 to F_4_14\n",
    "\n",
    "# build clean models\n",
    "def clean_model(f_: int, dcl=dcl):\n",
    "    pass\n",
    "\n",
    "\n",
    "# build dirty models\n",
    "def dirty_models(f_: int, ms=ms):\n",
    "    pass"
   ]
  },
  {
   "cell_type": "code",
   "execution_count": 160,
   "id": "52f33240-4dd2-4463-ac84-0154aa76ced0",
   "metadata": {},
   "outputs": [
    {
     "data": {
      "text/plain": [
       "<AxesSubplot:>"
      ]
     },
     "execution_count": 160,
     "metadata": {},
     "output_type": "execute_result"
    },
    {
     "data": {
      "image/png": "[encoded data removed]",
      "text/plain": [
       "<Figure size 432x288 with 1 Axes>"
      ]
     },
     "metadata": {},
     "output_type": "display_data"
    }
   ],
   "source": [
    "k = dcl[:, :14].sum(axis=1)\n",
    "# sns.lineplot(x=list(range(k.shape[0])), y=k)\n",
    "_y_, _x_ = np.histogram(k)\n",
    "bsns.lineplot(x=_x_[1:], y=_y_)"
   ]
  },
  {
   "cell_type": "code",
   "execution_count": 36,
   "id": "35ba4fea-916e-4ff2-88be-3bdc7ddef0ea",
   "metadata": {},
   "outputs": [],
   "source": []
  },
  {
   "cell_type": "code",
   "execution_count": 37,
   "id": "293eafc2-24d7-412d-acb1-7220afb1bd12",
   "metadata": {
    "tags": []
   },
   "outputs": [
    {
     "name": "stderr",
     "output_type": "stream",
     "text": [
      "Intel(R) Extension for Scikit-learn* enabled (https://github.com/intel/scikit-learn-intelex)\n"
     ]
    }
   ],
   "source": [
    "import gc\n",
    "import pickle\n",
    "\n",
    "import dpctl\n",
    "import numpy as np\n",
    "from joblib import parallel_backend\n",
    "from sklearn.feature_selection import SelectKBest, SelectPercentile, SequentialFeatureSelector, mutual_info_regression\n",
    "from sklearn.linear_model import (\n",
    "    ARDRegression,\n",
    "    BayesianRidge,\n",
    "    ElasticNet,\n",
    "    GammaRegressor,\n",
    "    Lasso,\n",
    "    LassoLars,\n",
    "    LassoLarsIC,\n",
    "    LinearRegression,\n",
    "    MultiTaskElasticNet,\n",
    "    MultiTaskLasso,\n",
    "    PassiveAggressiveRegressor,\n",
    "    PoissonRegressor,\n",
    "    QuantileRegressor,\n",
    "    RANSACRegressor,\n",
    "    SGDRegressor,\n",
    "    TheilSenRegressor,\n",
    "    TweedieRegressor,\n",
    ")\n",
    "from sklearn.metrics import mean_squared_error\n",
    "from sklearn.model_selection import train_test_split\n",
    "from sklearn.pipeline import make_pipeline\n",
    "from sklearn.preprocessing import PowerTransformer, QuantileTransformer, StandardScaler\n",
    "from sklearn.svm import SVR, LinearSVR, NuSVR\n",
    "from sklearnex import patch_sklearn\n",
    "from tqdm import tqdm\n",
    "\n",
    "\n",
    "def conn():\n",
    "    with open(\"data_np.pkl\", \"rb\") as fp:\n",
    "        dpkl = pickle.load(fp)\n",
    "    return dpkl\n",
    "\n",
    "\n",
    "import warnings\n",
    "\n",
    "warnings.filterwarnings(\"ignore\")\n",
    "\n",
    "# cdef np.ndarray X__ = conn()\n",
    "X__ = conn()\n",
    "\n",
    "patch_sklearn()\n",
    "\n",
    "\n",
    "def data_n_miss(n):\n",
    "    # data with x features simultaneously missing\n",
    "    # cdef np.ndarray t, idx\n",
    "    t = X__[:, 80]\n",
    "    idx = np.where(t == n)[0]\n",
    "    return X__[idx, :80]\n",
    "\n",
    "\n",
    "ms = data_n_miss(1)\n",
    "dcl = data_n_miss(0)\n",
    "\n",
    "iter_ = 10000\n",
    "tol = 0.000001\n",
    "\n",
    "estimators = [\n",
    "    LassoLarsIC(normalize=False, precompute=True, criterion=\"bic\"),\n",
    "    # # LinearRegression(),\n",
    "    # # SGDRegressor(learning_rate='adaptive'),\n",
    "    # # ARDRegression(n_iter=1000,compute_score=True,tol=tol),\n",
    "    BayesianRidge(lambda_init=0.001, n_iter=iter_, tol=tol, compute_score=True),\n",
    "    # # PassiveAggressiveRegressor(C=0.5, max_iter=iter_,tol=tol,early_stopping=True,validation_fraction=0.3,n_iter_no_change=20),\n",
    "    # # LinearSVR(tol=tol,max_iter=iter_,random_state=0,C=0.5),\n",
    "    # # NuSVR(kernel='linear',tol=tol),\n",
    "    # # SVR(kernel='poly',tol=tol),\n",
    "    Lasso(precompute=True, max_iter=iter_, tol=tol, selection=\"random\"),\n",
    "    LassoLars(precompute=True, max_iter=iter_),\n",
    "    RANSACRegressor(\n",
    "        min_samples=500, base_estimator=LassoLars(precompute=True, max_iter=iter_, random_state=0), max_trials=10000\n",
    "    ),\n",
    "    # # TheilSenRegressor(n_jobs=-1),\n",
    "    ElasticNet(\n",
    "        precompute=True,\n",
    "    ),\n",
    "    # MultiTaskElasticNet(random_state=0),\n",
    "    # MultiTaskLasso(random_state=0)\n",
    "]\n",
    "\n",
    "tweed_estimators = [\n",
    "    TweedieRegressor(power=0),\n",
    "    TweedieRegressor(power=1),\n",
    "    TweedieRegressor(power=1.5),\n",
    "    TweedieRegressor(power=2),\n",
    "    TweedieRegressor(power=3),\n",
    "]\n",
    "\n",
    "\n",
    "def feat_n_miss():\n",
    "    # Col Index of incomplete features\n",
    "    # cdef np.ndarray feed, feat_idx\n",
    "    global ms\n",
    "    feed: np.ndarray = np.isnan(ms).sum(axis=0)\n",
    "    feat_idx = np.where(feed > 0)[0]\n",
    "    return feat_idx\n",
    "\n",
    "\n",
    "def feat_x_nan_idx(feature, cc):\n",
    "    # cc data_n_miss\n",
    "    # return the indices of data missing \"x\" feature\n",
    "    cl_ = cc[:, feature]\n",
    "    return np.where(np.isnan(cl_))[0]\n",
    "\n",
    "\n",
    "# # clean data\n",
    "\n",
    "\n",
    "def get_clean_data(target_f, dirty_f_idx, size=0.5):\n",
    "    clash = np.array([target_f, dirty_f_idx])\n",
    "    d_features = np.setdiff1d(np.arange(80), clash)\n",
    "    test_f = dcl[:, d_features]\n",
    "    test_t = dcl[:, target_f]\n",
    "    xt, xst, yt, yst = train_test_split(test_f, test_t, test_size=size, random_state=0, shuffle=True)\n",
    "    return xt, yt\n",
    "\n",
    "\n",
    "from collections import defaultdict\n",
    "\n",
    "\n",
    "def clean_learning(target_f, size=0.7, exx=estimators):\n",
    "    global clean_results\n",
    "\n",
    "    d_features = np.setdiff1d(np.arange(80), np.array(target_f))\n",
    "    xf = dcl[:, d_features]\n",
    "    yf = dcl[:, target_f]\n",
    "    X_train, X_test, y_train, y_test = train_test_split(xf, yf, test_size=size, random_state=0, shuffle=True)\n",
    "\n",
    "    for e in tqdm(exx):\n",
    "        with parallel_backend(\"loky\"):\n",
    "            e.fit(X_train, y_train)\n",
    "            y_pred = e.predict(X_test)\n",
    "            safer = gc.collect()\n",
    "            clean_results[target_f][e.__class__.__name__] = mean_squared_error(y_pred, y_test)\n",
    "            safer = gc.collect()\n",
    "\n",
    "\n",
    "def dirty_df(target_f, dirty_f_idx, ms=ms):\n",
    "    # dirty_f_idx.append(target_f)\n",
    "    clash = np.array([target_f, dirty_f_idx])\n",
    "    # cdef np.ndarray clash\n",
    "    d_features = np.setdiff1d(np.arange(80), clash)\n",
    "    dirty_f_training_data_idx = feat_x_nan_idx(dirty_f_idx, ms)\n",
    "    ark = ms[dirty_f_training_data_idx, :]\n",
    "    ark = ark[:, d_features]\n",
    "    ark_target = ms[dirty_f_training_data_idx, target_f]\n",
    "    return ark, ark_target\n",
    "\n",
    "\n",
    "# # @jit(parallel=True)\n",
    "def roll(target_f, dirty_f_idx):\n",
    "    global estimators\n",
    "    dirty_results[target_f][dirty_f_idx] = {}\n",
    "    x_train, y_train = dirty_df(target_f, dirty_f_idx)\n",
    "    X_train, X_test, y_train, y_test = train_test_split(xf, yf, test_size=size, random_state=0, shuffle=True)\n",
    "    safer = gc.collect()\n",
    "    # workflow = make_pipeline((), estimator)\n",
    "    xtest, ytest = get_clean_data(target_f, dirty_f_idx)\n",
    "    with dpctl.device_context(\"gpu\"):\n",
    "\n",
    "        for est in estimators:\n",
    "            with parallel_backend(\"loky\", n_jobs=-1):\n",
    "                # print(\"=\"*30+f\"{workflow.__class__.__name__} started\"+\"=\"*30)\n",
    "                # workflow = make_pipeline(PowerTransformer(),\n",
    "                #                          # SequentialFeatureSelector(n_features_to_select=0.8,cv=5,estimator=ElasticNet(precompute=True),direction='backward',n_jobs=-1),\n",
    "                #                          SelectPercentile(mutual_info_regression,percentile=50),\n",
    "                #                          est, memory='learning/')\n",
    "                workflow = est\n",
    "                workflow.fit(x_train, y_train)\n",
    "                y_pred = workflow.predict(xtest)\n",
    "                safer = gc.collect()\n",
    "                dirty_results[target_f][dirty_f_idx][est.__class__.__name__] = mean_squared_error(y_pred, ytest)\n",
    "                # print(workflow.__class__.__name__,\":\",mean_squared_error(y_pred, ytest))"
   ]
  },
  {
   "cell_type": "code",
   "execution_count": 38,
   "id": "c816ed82-0f01-4713-b419-fdf3b4aa90b0",
   "metadata": {},
   "outputs": [
    {
     "data": {
      "text/plain": [
       "0"
      ]
     },
     "execution_count": 38,
     "metadata": {},
     "output_type": "execute_result"
    }
   ],
   "source": [
    "gc.collect()"
   ]
  },
  {
   "cell_type": "code",
   "execution_count": 34,
   "id": "a137a244-eadd-4451-bc4b-6ca052dc3ab4",
   "metadata": {
    "tags": []
   },
   "outputs": [
    {
     "data": {
      "text/html": [
       "<div>\n",
       "<style scoped>\n",
       "    .dataframe tbody tr th:only-of-type {\n",
       "        vertical-align: middle;\n",
       "    }\n",
       "\n",
       "    .dataframe tbody tr th {\n",
       "        vertical-align: top;\n",
       "    }\n",
       "\n",
       "    .dataframe thead th {\n",
       "        text-align: right;\n",
       "    }\n",
       "</style>\n",
       "<table border=\"1\" class=\"dataframe\">\n",
       "  <thead>\n",
       "    <tr style=\"text-align: right;\">\n",
       "      <th></th>\n",
       "    </tr>\n",
       "  </thead>\n",
       "  <tbody>\n",
       "  </tbody>\n",
       "</table>\n",
       "</div>"
      ],
      "text/plain": [
       "Empty DataFrame\n",
       "Columns: []\n",
       "Index: []"
      ]
     },
     "execution_count": 34,
     "metadata": {},
     "output_type": "execute_result"
    }
   ],
   "source": [
    "import pandas as pd\n",
    "\n",
    "pd.DataFrame(dirty_results[5]).rank()"
   ]
  },
  {
   "cell_type": "code",
   "execution_count": 25,
   "id": "6a97fbf6-0f88-4dfa-b9e8-ea492eff2297",
   "metadata": {
    "tags": []
   },
   "outputs": [
    {
     "name": "stderr",
     "output_type": "stream",
     "text": [
      "100%|███████████████████████████████████████████| 55/55 [12:55<00:00, 14.10s/it]\n"
     ]
    },
    {
     "data": {
      "text/plain": [
       "LassoLarsIC        2.740741\n",
       "BayesianRidge      4.759259\n",
       "Lasso              2.740741\n",
       "LassoLars          2.740741\n",
       "RANSACRegressor    5.277778\n",
       "ElasticNet         2.740741\n",
       "dtype: float64"
      ]
     },
     "execution_count": 25,
     "metadata": {},
     "output_type": "execute_result"
    }
   ],
   "source": [
    "# # from tqdm.notebook import trange, tqdm# g = feat_n_miss()\n",
    "g = feat_n_miss()\n",
    "yu = 6\n",
    "for i in tqdm(g[\\0]):\n",
    "    # clean_learning(i)\n",
    "    if i!=yu:\n",
    "        roll(yu,i)\n",
    "import pandas as pd\n",
    "\n",
    "pd.DataFrame(dirty_results[6]).rank().mean(axis=1)\n",
    "# roll(0,1)\n",
    "# clean_results"
   ]
  },
  {
   "cell_type": "code",
   "execution_count": 26,
   "id": "ed61c601-114b-486e-bd35-965a5c151066",
   "metadata": {},
   "outputs": [
    {
     "data": {
      "text/plain": [
       "array([<AxesSubplot:>, <AxesSubplot:>, <AxesSubplot:>, <AxesSubplot:>,\n",
       "       <AxesSubplot:>, <AxesSubplot:>], dtype=object)"
      ]
     },
     "execution_count": 26,
     "metadata": {},
     "output_type": "execute_result"
    },
    {
     "data": {
      "image/png": "[encoded data removed]",
      "text/plain": [
       "<Figure size 432x288 with 6 Axes>"
      ]
     },
     "metadata": {
      "needs_background": "light"
     },
     "output_type": "display_data"
    }
   ],
   "source": [
    "drd = pd.DataFrame(dirty_results[6])\n",
    "drd.T.plot(kind=\"line\", subplots=True)"
   ]
  },
  {
   "cell_type": "code",
   "execution_count": 37,
   "id": "1a53f944-b391-4515-99db-0d9d1739f31c",
   "metadata": {},
   "outputs": [],
   "source": [
    "mod = [\"LassoLarsIC\", \"ARDRegression\", \"BayesianRidge\", \"Lasso\", \"LassoLars\", \"RANSACRegressor\", \"ElasticNet\"]"
   ]
  },
  {
   "cell_type": "code",
   "execution_count": 71,
   "id": "7ff9444d-5969-4427-8316-1d44c0f9634a",
   "metadata": {},
   "outputs": [],
   "source": [
    "mod = [\"LassoLarsIC\", \"ARDRegression\", \"BayesianRidge\", \"Lasso\", \"LassoLars\", \"RANSACRegressor\", \"ElasticNet\"]\n",
    "co = [\"b\", \"r\", \"g\", \"m\"]\n",
    "e = drd.rank()"
   ]
  },
  {
   "cell_type": "code",
   "execution_count": 31,
   "id": "c6d69d17-69da-4115-a5c5-baad867ea0c2",
   "metadata": {
    "collapsed": true,
    "jupyter": {
     "outputs_hidden": true
    },
    "tags": []
   },
   "outputs": [
    {
     "ename": "AttributeError",
     "evalue": "'numpy.ndarray' object has no attribute 'show'",
     "output_type": "error",
     "traceback": [
      "\u001b[0;31m---------------------------------------------------------------------------\u001b[0m",
      "\u001b[0;31mAttributeError\u001b[0m                            Traceback (most recent call last)",
      "Input \u001b[0;32mIn [31]\u001b[0m, in \u001b[0;36m<cell line: 4>\u001b[0;34m()\u001b[0m\n\u001b[1;32m      2\u001b[0m pd\u001b[38;5;241m.\u001b[39moptions\u001b[38;5;241m.\u001b[39mplotting\u001b[38;5;241m.\u001b[39mbackend \u001b[38;5;241m=\u001b[39m \u001b[38;5;124m\"\u001b[39m\u001b[38;5;124mmatplotlib\u001b[39m\u001b[38;5;124m\"\u001b[39m\n\u001b[1;32m      3\u001b[0m fig1 \u001b[38;5;241m=\u001b[39m drd\u001b[38;5;241m.\u001b[39mrank()\u001b[38;5;241m.\u001b[39mT\u001b[38;5;241m.\u001b[39mhist(figsize\u001b[38;5;241m=\u001b[39m(\u001b[38;5;241m20\u001b[39m,\u001b[38;5;241m40\u001b[39m),layout\u001b[38;5;241m=\u001b[39m(\u001b[38;5;241m7\u001b[39m,\u001b[38;5;241m1\u001b[39m),sharex\u001b[38;5;241m=\u001b[39m\u001b[38;5;28;01mTrue\u001b[39;00m,legend\u001b[38;5;241m=\u001b[39m\u001b[38;5;28;01mTrue\u001b[39;00m)\n\u001b[0;32m----> 4\u001b[0m \u001b[43mfig1\u001b[49m\u001b[38;5;241;43m.\u001b[39;49m\u001b[43mshow\u001b[49m()\n",
      "\u001b[0;31mAttributeError\u001b[0m: 'numpy.ndarray' object has no attribute 'show'"
     ]
    },
    {
     "data": {
      "image/png": "[encoded data removed]",
      "text/plain": [
       "<Figure size 1440x2880 with 7 Axes>"
      ]
     },
     "metadata": {},
     "output_type": "display_data"
    }
   ],
   "source": [
    "sns.set()\n",
    "pd.options.plotting.backend = \"matplotlib\"\n",
    "fig1 = drd.rank().T.hist(figsize=(20, 40), layout=(7, 1), sharex=True, legend=True)\n",
    "# fig1.show()\n",
    "# fig1.show()\n",
    "# e.T.hist()"
   ]
  },
  {
   "cell_type": "code",
   "execution_count": 39,
   "id": "bd01b010-84a4-4d92-b5ef-310771e224b7",
   "metadata": {
    "collapsed": true,
    "jupyter": {
     "outputs_hidden": true
    },
    "tags": []
   },
   "outputs": [
    {
     "name": "stderr",
     "output_type": "stream",
     "text": [
      "100%|█████████████████████████████████████████████| 6/6 [01:04<00:00, 10.77s/it]\n"
     ]
    }
   ],
   "source": [
    "clean_learning(6)"
   ]
  },
  {
   "cell_type": "code",
   "execution_count": 30,
   "id": "68059a49-84de-4b65-b18f-ac13d1fd4d89",
   "metadata": {},
   "outputs": [],
   "source": [
    "import seaborn as sns"
   ]
  },
  {
   "cell_type": "code",
   "execution_count": 40,
   "id": "dd4e0bda-84e4-4d49-b349-de7a407a00d5",
   "metadata": {
    "collapsed": true,
    "jupyter": {
     "outputs_hidden": true
    },
    "tags": []
   },
   "outputs": [
    {
     "data": {
      "text/plain": [
       "defaultdict(dict,\n",
       "            {6: {'LassoLarsIC': 1.0013853,\n",
       "              'BayesianRidge': 1.0013888165670553,\n",
       "              'Lasso': 1.0013853,\n",
       "              'LassoLars': 1.0013853,\n",
       "              'RANSACRegressor': 1.0039965,\n",
       "              'ElasticNet': 1.0013853}})"
      ]
     },
     "execution_count": 40,
     "metadata": {},
     "output_type": "execute_result"
    }
   ],
   "source": [
    "clean_results"
   ]
  },
  {
   "cell_type": "code",
   "execution_count": 41,
   "id": "80c3a218-ef43-4a76-b07f-36d31c5bb93d",
   "metadata": {},
   "outputs": [],
   "source": [
    "pd.options.display.max_columns = 90\n",
    "pd.options.display.max_rows = 90"
   ]
  },
  {
   "cell_type": "code",
   "execution_count": 43,
   "id": "0839aa5c-107f-418a-b324-ceb1297df04d",
   "metadata": {},
   "outputs": [
    {
     "data": {
      "text/html": [
       "<div>\n",
       "<style scoped>\n",
       "    .dataframe tbody tr th:only-of-type {\n",
       "        vertical-align: middle;\n",
       "    }\n",
       "\n",
       "    .dataframe tbody tr th {\n",
       "        vertical-align: top;\n",
       "    }\n",
       "\n",
       "    .dataframe thead th {\n",
       "        text-align: right;\n",
       "    }\n",
       "</style>\n",
       "<table border=\"1\" class=\"dataframe\">\n",
       "  <thead>\n",
       "    <tr style=\"text-align: right;\">\n",
       "      <th></th>\n",
       "      <th>0</th>\n",
       "      <th>1</th>\n",
       "      <th>2</th>\n",
       "      <th>3</th>\n",
       "      <th>4</th>\n",
       "      <th>5</th>\n",
       "      <th>7</th>\n",
       "      <th>8</th>\n",
       "      <th>9</th>\n",
       "      <th>10</th>\n",
       "      <th>11</th>\n",
       "      <th>12</th>\n",
       "      <th>13</th>\n",
       "      <th>14</th>\n",
       "      <th>40</th>\n",
       "      <th>41</th>\n",
       "      <th>42</th>\n",
       "      <th>43</th>\n",
       "      <th>44</th>\n",
       "      <th>45</th>\n",
       "      <th>46</th>\n",
       "      <th>47</th>\n",
       "      <th>48</th>\n",
       "      <th>49</th>\n",
       "      <th>50</th>\n",
       "      <th>51</th>\n",
       "      <th>52</th>\n",
       "      <th>53</th>\n",
       "      <th>54</th>\n",
       "      <th>55</th>\n",
       "      <th>56</th>\n",
       "      <th>57</th>\n",
       "      <th>58</th>\n",
       "      <th>59</th>\n",
       "      <th>60</th>\n",
       "      <th>61</th>\n",
       "      <th>62</th>\n",
       "      <th>63</th>\n",
       "      <th>64</th>\n",
       "      <th>65</th>\n",
       "      <th>66</th>\n",
       "      <th>67</th>\n",
       "      <th>68</th>\n",
       "      <th>69</th>\n",
       "      <th>70</th>\n",
       "      <th>71</th>\n",
       "      <th>72</th>\n",
       "      <th>73</th>\n",
       "      <th>74</th>\n",
       "      <th>75</th>\n",
       "      <th>76</th>\n",
       "      <th>77</th>\n",
       "      <th>78</th>\n",
       "      <th>79</th>\n",
       "    </tr>\n",
       "  </thead>\n",
       "  <tbody>\n",
       "    <tr>\n",
       "      <th>LassoLarsIC</th>\n",
       "      <td>1.000399</td>\n",
       "      <td>1.000441</td>\n",
       "      <td>1.000465</td>\n",
       "      <td>1.000690</td>\n",
       "      <td>1.000403</td>\n",
       "      <td>1.000348</td>\n",
       "      <td>1.000360</td>\n",
       "      <td>1.000913</td>\n",
       "      <td>1.000344</td>\n",
       "      <td>1.000481</td>\n",
       "      <td>1.000696</td>\n",
       "      <td>1.000426</td>\n",
       "      <td>1.000354</td>\n",
       "      <td>1.000376</td>\n",
       "      <td>1.000451</td>\n",
       "      <td>1.001067</td>\n",
       "      <td>1.000424</td>\n",
       "      <td>1.000497</td>\n",
       "      <td>1.000343</td>\n",
       "      <td>1.000524</td>\n",
       "      <td>1.000474</td>\n",
       "      <td>1.000444</td>\n",
       "      <td>1.000401</td>\n",
       "      <td>1.000715</td>\n",
       "      <td>1.000398</td>\n",
       "      <td>1.000344</td>\n",
       "      <td>1.000436</td>\n",
       "      <td>1.000344</td>\n",
       "      <td>1.000374</td>\n",
       "      <td>1.001393</td>\n",
       "      <td>1.000363</td>\n",
       "      <td>1.000467</td>\n",
       "      <td>1.000381</td>\n",
       "      <td>1.000705</td>\n",
       "      <td>1.000361</td>\n",
       "      <td>1.000617</td>\n",
       "      <td>1.000355</td>\n",
       "      <td>1.000482</td>\n",
       "      <td>1.000449</td>\n",
       "      <td>1.000397</td>\n",
       "      <td>1.000710</td>\n",
       "      <td>1.000666</td>\n",
       "      <td>1.000350</td>\n",
       "      <td>1.000406</td>\n",
       "      <td>1.000711</td>\n",
       "      <td>1.000436</td>\n",
       "      <td>1.000347</td>\n",
       "      <td>1.000441</td>\n",
       "      <td>1.000368</td>\n",
       "      <td>1.000348</td>\n",
       "      <td>1.000630</td>\n",
       "      <td>1.000346</td>\n",
       "      <td>1.000347</td>\n",
       "      <td>1.000446</td>\n",
       "    </tr>\n",
       "    <tr>\n",
       "      <th>BayesianRidge</th>\n",
       "      <td>1.000465</td>\n",
       "      <td>1.000485</td>\n",
       "      <td>1.000459</td>\n",
       "      <td>1.000815</td>\n",
       "      <td>1.000430</td>\n",
       "      <td>1.000340</td>\n",
       "      <td>1.000625</td>\n",
       "      <td>1.000926</td>\n",
       "      <td>1.000353</td>\n",
       "      <td>1.000485</td>\n",
       "      <td>1.000833</td>\n",
       "      <td>1.000446</td>\n",
       "      <td>1.000363</td>\n",
       "      <td>1.000413</td>\n",
       "      <td>1.000466</td>\n",
       "      <td>1.001061</td>\n",
       "      <td>1.000434</td>\n",
       "      <td>1.000495</td>\n",
       "      <td>1.000403</td>\n",
       "      <td>1.000523</td>\n",
       "      <td>1.000499</td>\n",
       "      <td>1.000439</td>\n",
       "      <td>1.000422</td>\n",
       "      <td>1.000757</td>\n",
       "      <td>1.000973</td>\n",
       "      <td>1.000349</td>\n",
       "      <td>1.000465</td>\n",
       "      <td>1.000493</td>\n",
       "      <td>1.000976</td>\n",
       "      <td>1.002622</td>\n",
       "      <td>1.001031</td>\n",
       "      <td>1.000837</td>\n",
       "      <td>1.000550</td>\n",
       "      <td>1.000742</td>\n",
       "      <td>1.000378</td>\n",
       "      <td>1.000635</td>\n",
       "      <td>1.000439</td>\n",
       "      <td>1.000588</td>\n",
       "      <td>1.001093</td>\n",
       "      <td>1.000375</td>\n",
       "      <td>1.000962</td>\n",
       "      <td>1.000680</td>\n",
       "      <td>1.000374</td>\n",
       "      <td>1.000431</td>\n",
       "      <td>1.001539</td>\n",
       "      <td>1.001145</td>\n",
       "      <td>1.001973</td>\n",
       "      <td>1.000865</td>\n",
       "      <td>1.000796</td>\n",
       "      <td>1.001124</td>\n",
       "      <td>1.001651</td>\n",
       "      <td>1.000432</td>\n",
       "      <td>1.000358</td>\n",
       "      <td>1.000468</td>\n",
       "    </tr>\n",
       "    <tr>\n",
       "      <th>Lasso</th>\n",
       "      <td>1.000399</td>\n",
       "      <td>1.000441</td>\n",
       "      <td>1.000465</td>\n",
       "      <td>1.000690</td>\n",
       "      <td>1.000403</td>\n",
       "      <td>1.000348</td>\n",
       "      <td>1.000360</td>\n",
       "      <td>1.000913</td>\n",
       "      <td>1.000344</td>\n",
       "      <td>1.000481</td>\n",
       "      <td>1.000696</td>\n",
       "      <td>1.000426</td>\n",
       "      <td>1.000354</td>\n",
       "      <td>1.000376</td>\n",
       "      <td>1.000451</td>\n",
       "      <td>1.001067</td>\n",
       "      <td>1.000424</td>\n",
       "      <td>1.000497</td>\n",
       "      <td>1.000343</td>\n",
       "      <td>1.000524</td>\n",
       "      <td>1.000474</td>\n",
       "      <td>1.000444</td>\n",
       "      <td>1.000401</td>\n",
       "      <td>1.000715</td>\n",
       "      <td>1.000398</td>\n",
       "      <td>1.000344</td>\n",
       "      <td>1.000436</td>\n",
       "      <td>1.000344</td>\n",
       "      <td>1.000374</td>\n",
       "      <td>1.001393</td>\n",
       "      <td>1.000363</td>\n",
       "      <td>1.000467</td>\n",
       "      <td>1.000381</td>\n",
       "      <td>1.000705</td>\n",
       "      <td>1.000361</td>\n",
       "      <td>1.000617</td>\n",
       "      <td>1.000355</td>\n",
       "      <td>1.000482</td>\n",
       "      <td>1.000449</td>\n",
       "      <td>1.000397</td>\n",
       "      <td>1.000710</td>\n",
       "      <td>1.000666</td>\n",
       "      <td>1.000350</td>\n",
       "      <td>1.000406</td>\n",
       "      <td>1.000711</td>\n",
       "      <td>1.000436</td>\n",
       "      <td>1.000347</td>\n",
       "      <td>1.000441</td>\n",
       "      <td>1.000368</td>\n",
       "      <td>1.000348</td>\n",
       "      <td>1.000630</td>\n",
       "      <td>1.000346</td>\n",
       "      <td>1.000347</td>\n",
       "      <td>1.000446</td>\n",
       "    </tr>\n",
       "    <tr>\n",
       "      <th>LassoLars</th>\n",
       "      <td>1.000399</td>\n",
       "      <td>1.000441</td>\n",
       "      <td>1.000465</td>\n",
       "      <td>1.000690</td>\n",
       "      <td>1.000403</td>\n",
       "      <td>1.000348</td>\n",
       "      <td>1.000360</td>\n",
       "      <td>1.000913</td>\n",
       "      <td>1.000344</td>\n",
       "      <td>1.000481</td>\n",
       "      <td>1.000696</td>\n",
       "      <td>1.000426</td>\n",
       "      <td>1.000354</td>\n",
       "      <td>1.000376</td>\n",
       "      <td>1.000451</td>\n",
       "      <td>1.001067</td>\n",
       "      <td>1.000424</td>\n",
       "      <td>1.000497</td>\n",
       "      <td>1.000343</td>\n",
       "      <td>1.000524</td>\n",
       "      <td>1.000474</td>\n",
       "      <td>1.000444</td>\n",
       "      <td>1.000401</td>\n",
       "      <td>1.000715</td>\n",
       "      <td>1.000398</td>\n",
       "      <td>1.000344</td>\n",
       "      <td>1.000436</td>\n",
       "      <td>1.000344</td>\n",
       "      <td>1.000374</td>\n",
       "      <td>1.001393</td>\n",
       "      <td>1.000363</td>\n",
       "      <td>1.000467</td>\n",
       "      <td>1.000381</td>\n",
       "      <td>1.000705</td>\n",
       "      <td>1.000361</td>\n",
       "      <td>1.000617</td>\n",
       "      <td>1.000355</td>\n",
       "      <td>1.000482</td>\n",
       "      <td>1.000449</td>\n",
       "      <td>1.000397</td>\n",
       "      <td>1.000710</td>\n",
       "      <td>1.000666</td>\n",
       "      <td>1.000350</td>\n",
       "      <td>1.000406</td>\n",
       "      <td>1.000711</td>\n",
       "      <td>1.000436</td>\n",
       "      <td>1.000347</td>\n",
       "      <td>1.000441</td>\n",
       "      <td>1.000368</td>\n",
       "      <td>1.000348</td>\n",
       "      <td>1.000630</td>\n",
       "      <td>1.000346</td>\n",
       "      <td>1.000347</td>\n",
       "      <td>1.000446</td>\n",
       "    </tr>\n",
       "    <tr>\n",
       "      <th>RANSACRegressor</th>\n",
       "      <td>1.001229</td>\n",
       "      <td>1.004034</td>\n",
       "      <td>1.001422</td>\n",
       "      <td>1.005307</td>\n",
       "      <td>1.000744</td>\n",
       "      <td>1.002008</td>\n",
       "      <td>1.001150</td>\n",
       "      <td>1.000354</td>\n",
       "      <td>1.004044</td>\n",
       "      <td>1.003496</td>\n",
       "      <td>1.000360</td>\n",
       "      <td>1.003373</td>\n",
       "      <td>1.004386</td>\n",
       "      <td>1.006161</td>\n",
       "      <td>1.000609</td>\n",
       "      <td>1.005073</td>\n",
       "      <td>1.000769</td>\n",
       "      <td>1.000531</td>\n",
       "      <td>1.006553</td>\n",
       "      <td>1.009793</td>\n",
       "      <td>1.000450</td>\n",
       "      <td>1.000819</td>\n",
       "      <td>1.000355</td>\n",
       "      <td>1.007670</td>\n",
       "      <td>1.001218</td>\n",
       "      <td>1.000436</td>\n",
       "      <td>1.002232</td>\n",
       "      <td>1.000588</td>\n",
       "      <td>1.000578</td>\n",
       "      <td>1.006635</td>\n",
       "      <td>1.000585</td>\n",
       "      <td>1.006356</td>\n",
       "      <td>1.002285</td>\n",
       "      <td>1.000628</td>\n",
       "      <td>1.003836</td>\n",
       "      <td>1.001849</td>\n",
       "      <td>1.004538</td>\n",
       "      <td>1.000542</td>\n",
       "      <td>1.000599</td>\n",
       "      <td>1.002070</td>\n",
       "      <td>1.000890</td>\n",
       "      <td>1.010876</td>\n",
       "      <td>1.001448</td>\n",
       "      <td>1.005713</td>\n",
       "      <td>1.000400</td>\n",
       "      <td>1.000867</td>\n",
       "      <td>1.001027</td>\n",
       "      <td>1.000562</td>\n",
       "      <td>1.000768</td>\n",
       "      <td>1.009780</td>\n",
       "      <td>1.006662</td>\n",
       "      <td>1.001756</td>\n",
       "      <td>1.001723</td>\n",
       "      <td>1.000717</td>\n",
       "    </tr>\n",
       "    <tr>\n",
       "      <th>ElasticNet</th>\n",
       "      <td>1.000399</td>\n",
       "      <td>1.000441</td>\n",
       "      <td>1.000465</td>\n",
       "      <td>1.000690</td>\n",
       "      <td>1.000403</td>\n",
       "      <td>1.000348</td>\n",
       "      <td>1.000360</td>\n",
       "      <td>1.000913</td>\n",
       "      <td>1.000344</td>\n",
       "      <td>1.000481</td>\n",
       "      <td>1.000696</td>\n",
       "      <td>1.000426</td>\n",
       "      <td>1.000354</td>\n",
       "      <td>1.000376</td>\n",
       "      <td>1.000451</td>\n",
       "      <td>1.001067</td>\n",
       "      <td>1.000424</td>\n",
       "      <td>1.000497</td>\n",
       "      <td>1.000343</td>\n",
       "      <td>1.000524</td>\n",
       "      <td>1.000474</td>\n",
       "      <td>1.000444</td>\n",
       "      <td>1.000401</td>\n",
       "      <td>1.000715</td>\n",
       "      <td>1.000398</td>\n",
       "      <td>1.000344</td>\n",
       "      <td>1.000436</td>\n",
       "      <td>1.000344</td>\n",
       "      <td>1.000374</td>\n",
       "      <td>1.001393</td>\n",
       "      <td>1.000363</td>\n",
       "      <td>1.000467</td>\n",
       "      <td>1.000381</td>\n",
       "      <td>1.000705</td>\n",
       "      <td>1.000361</td>\n",
       "      <td>1.000617</td>\n",
       "      <td>1.000355</td>\n",
       "      <td>1.000482</td>\n",
       "      <td>1.000449</td>\n",
       "      <td>1.000397</td>\n",
       "      <td>1.000710</td>\n",
       "      <td>1.000666</td>\n",
       "      <td>1.000350</td>\n",
       "      <td>1.000406</td>\n",
       "      <td>1.000711</td>\n",
       "      <td>1.000436</td>\n",
       "      <td>1.000347</td>\n",
       "      <td>1.000441</td>\n",
       "      <td>1.000368</td>\n",
       "      <td>1.000348</td>\n",
       "      <td>1.000630</td>\n",
       "      <td>1.000346</td>\n",
       "      <td>1.000347</td>\n",
       "      <td>1.000446</td>\n",
       "    </tr>\n",
       "  </tbody>\n",
       "</table>\n",
       "</div>"
      ],
      "text/plain": [
       "                       0         1         2         3         4         5   \\\n",
       "LassoLarsIC      1.000399  1.000441  1.000465  1.000690  1.000403  1.000348   \n",
       "BayesianRidge    1.000465  1.000485  1.000459  1.000815  1.000430  1.000340   \n",
       "Lasso            1.000399  1.000441  1.000465  1.000690  1.000403  1.000348   \n",
       "LassoLars        1.000399  1.000441  1.000465  1.000690  1.000403  1.000348   \n",
       "RANSACRegressor  1.001229  1.004034  1.001422  1.005307  1.000744  1.002008   \n",
       "ElasticNet       1.000399  1.000441  1.000465  1.000690  1.000403  1.000348   \n",
       "\n",
       "                       7         8         9         10        11        12  \\\n",
       "LassoLarsIC      1.000360  1.000913  1.000344  1.000481  1.000696  1.000426   \n",
       "BayesianRidge    1.000625  1.000926  1.000353  1.000485  1.000833  1.000446   \n",
       "Lasso            1.000360  1.000913  1.000344  1.000481  1.000696  1.000426   \n",
       "LassoLars        1.000360  1.000913  1.000344  1.000481  1.000696  1.000426   \n",
       "RANSACRegressor  1.001150  1.000354  1.004044  1.003496  1.000360  1.003373   \n",
       "ElasticNet       1.000360  1.000913  1.000344  1.000481  1.000696  1.000426   \n",
       "\n",
       "                       13        14        40        41        42        43  \\\n",
       "LassoLarsIC      1.000354  1.000376  1.000451  1.001067  1.000424  1.000497   \n",
       "BayesianRidge    1.000363  1.000413  1.000466  1.001061  1.000434  1.000495   \n",
       "Lasso            1.000354  1.000376  1.000451  1.001067  1.000424  1.000497   \n",
       "LassoLars        1.000354  1.000376  1.000451  1.001067  1.000424  1.000497   \n",
       "RANSACRegressor  1.004386  1.006161  1.000609  1.005073  1.000769  1.000531   \n",
       "ElasticNet       1.000354  1.000376  1.000451  1.001067  1.000424  1.000497   \n",
       "\n",
       "                       44        45        46        47        48        49  \\\n",
       "LassoLarsIC      1.000343  1.000524  1.000474  1.000444  1.000401  1.000715   \n",
       "BayesianRidge    1.000403  1.000523  1.000499  1.000439  1.000422  1.000757   \n",
       "Lasso            1.000343  1.000524  1.000474  1.000444  1.000401  1.000715   \n",
       "LassoLars        1.000343  1.000524  1.000474  1.000444  1.000401  1.000715   \n",
       "RANSACRegressor  1.006553  1.009793  1.000450  1.000819  1.000355  1.007670   \n",
       "ElasticNet       1.000343  1.000524  1.000474  1.000444  1.000401  1.000715   \n",
       "\n",
       "                       50        51        52        53        54        55  \\\n",
       "LassoLarsIC      1.000398  1.000344  1.000436  1.000344  1.000374  1.001393   \n",
       "BayesianRidge    1.000973  1.000349  1.000465  1.000493  1.000976  1.002622   \n",
       "Lasso            1.000398  1.000344  1.000436  1.000344  1.000374  1.001393   \n",
       "LassoLars        1.000398  1.000344  1.000436  1.000344  1.000374  1.001393   \n",
       "RANSACRegressor  1.001218  1.000436  1.002232  1.000588  1.000578  1.006635   \n",
       "ElasticNet       1.000398  1.000344  1.000436  1.000344  1.000374  1.001393   \n",
       "\n",
       "                       56        57        58        59        60        61  \\\n",
       "LassoLarsIC      1.000363  1.000467  1.000381  1.000705  1.000361  1.000617   \n",
       "BayesianRidge    1.001031  1.000837  1.000550  1.000742  1.000378  1.000635   \n",
       "Lasso            1.000363  1.000467  1.000381  1.000705  1.000361  1.000617   \n",
       "LassoLars        1.000363  1.000467  1.000381  1.000705  1.000361  1.000617   \n",
       "RANSACRegressor  1.000585  1.006356  1.002285  1.000628  1.003836  1.001849   \n",
       "ElasticNet       1.000363  1.000467  1.000381  1.000705  1.000361  1.000617   \n",
       "\n",
       "                       62        63        64        65        66        67  \\\n",
       "LassoLarsIC      1.000355  1.000482  1.000449  1.000397  1.000710  1.000666   \n",
       "BayesianRidge    1.000439  1.000588  1.001093  1.000375  1.000962  1.000680   \n",
       "Lasso            1.000355  1.000482  1.000449  1.000397  1.000710  1.000666   \n",
       "LassoLars        1.000355  1.000482  1.000449  1.000397  1.000710  1.000666   \n",
       "RANSACRegressor  1.004538  1.000542  1.000599  1.002070  1.000890  1.010876   \n",
       "ElasticNet       1.000355  1.000482  1.000449  1.000397  1.000710  1.000666   \n",
       "\n",
       "                       68        69        70        71        72        73  \\\n",
       "LassoLarsIC      1.000350  1.000406  1.000711  1.000436  1.000347  1.000441   \n",
       "BayesianRidge    1.000374  1.000431  1.001539  1.001145  1.001973  1.000865   \n",
       "Lasso            1.000350  1.000406  1.000711  1.000436  1.000347  1.000441   \n",
       "LassoLars        1.000350  1.000406  1.000711  1.000436  1.000347  1.000441   \n",
       "RANSACRegressor  1.001448  1.005713  1.000400  1.000867  1.001027  1.000562   \n",
       "ElasticNet       1.000350  1.000406  1.000711  1.000436  1.000347  1.000441   \n",
       "\n",
       "                       74        75        76        77        78        79  \n",
       "LassoLarsIC      1.000368  1.000348  1.000630  1.000346  1.000347  1.000446  \n",
       "BayesianRidge    1.000796  1.001124  1.001651  1.000432  1.000358  1.000468  \n",
       "Lasso            1.000368  1.000348  1.000630  1.000346  1.000347  1.000446  \n",
       "LassoLars        1.000368  1.000348  1.000630  1.000346  1.000347  1.000446  \n",
       "RANSACRegressor  1.000768  1.009780  1.006662  1.001756  1.001723  1.000717  \n",
       "ElasticNet       1.000368  1.000348  1.000630  1.000346  1.000347  1.000446  "
      ]
     },
     "execution_count": 43,
     "metadata": {},
     "output_type": "execute_result"
    }
   ],
   "source": [
    "pd.DataFrame(drd)"
   ]
  },
  {
   "cell_type": "code",
   "execution_count": null,
   "id": "3dfd1cb3-6dce-464a-8a75-aee7afedd90f",
   "metadata": {},
   "outputs": [],
   "source": []
  }
 ],
 "metadata": {
  "kernelspec": {
   "display_name": "Python (tf)",
   "language": "python",
   "name": "tf"
  },
  "language_info": {
   "codemirror_mode": {
    "name": "ipython",
    "version": 3
   },
   "file_extension": ".py",
   "mimetype": "text/x-python",
   "name": "python",
   "nbconvert_exporter": "python",
   "pygments_lexer": "ipython3",
   "version": "3.9.10"
  }
 },
 "nbformat": 4,
 "nbformat_minor": 5
}
