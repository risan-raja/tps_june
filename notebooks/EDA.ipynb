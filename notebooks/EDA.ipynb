{
 "cells": [
  {
   "cell_type": "markdown",
   "id": "96535d97-5cc4-47a1-b419-9a2fb6e98e83",
   "metadata": {
    "tags": [],
    "pycharm": {
     "name": "#%% md\n"
    }
   },
   "source": [
    "# Setup"
   ]
  },
  {
   "cell_type": "code",
   "execution_count": 1,
   "id": "6469bafe-70ed-4de3-a014-8e7825d10e15",
   "metadata": {
    "pycharm": {
     "name": "#%%\n"
    }
   },
   "outputs": [],
   "source": [
    "%load_ext cython"
   ]
  },
  {
   "cell_type": "code",
   "execution_count": null,
   "id": "3f972d15-7c57-46ce-9512-aa3fe55b0295",
   "metadata": {
    "pycharm": {
     "name": "#%%\n"
    }
   },
   "outputs": [],
   "source": [
    "# %%cython\n",
    "import pickle\n",
    "\n",
    "from sklearn import set_config\n",
    "\n",
    "set_config(display=\"diagram\")\n",
    "import numpy as np\n",
    "import pandas as pd\n",
    "\n",
    "# import seaborn as sns\n",
    "# from dataprep.eda import create_report\n",
    "# from pandas_summary import DataFrameSummary\n",
    "\n",
    "pd.options.display.max_columns = 50\n",
    "# pd.describe_option()\n",
    "pd.options.compute.use_numba = True\n",
    "pd.options.compute.use_numexpr = True"
   ]
  },
  {
   "cell_type": "markdown",
   "id": "d11b9954-78fe-4526-964f-112c8ec9d0ea",
   "metadata": {
    "jp-MarkdownHeadingCollapsed": true,
    "tags": [],
    "pycharm": {
     "name": "#%% md\n"
    }
   },
   "source": [
    "## Compressing the Data"
   ]
  },
  {
   "cell_type": "code",
   "execution_count": null,
   "id": "bace0826-9bf5-4fc1-b706-24595be00479",
   "metadata": {
    "pycharm": {
     "name": "#%%\n"
    }
   },
   "outputs": [],
   "source": [
    "%%cython\n",
    "import pandas as pd\n",
    "\n",
    "data = pd.read_csv(\"data/data.csv\", index_col=0)"
   ]
  },
  {
   "cell_type": "code",
   "execution_count": null,
   "id": "39e62c8b-b613-462f-a719-edc809ee1eef",
   "metadata": {
    "pycharm": {
     "name": "#%%\n"
    }
   },
   "outputs": [],
   "source": [
    "int64_cols = data.select_dtypes(\"int64\")\n",
    "for c in int64_cols:\n",
    "    data[c] = data[c].astype(\"uint8\")"
   ]
  },
  {
   "cell_type": "code",
   "execution_count": null,
   "id": "f31b52c6-af21-4a44-9ed5-c4b94a3bf18e",
   "metadata": {
    "pycharm": {
     "name": "#%%\n"
    }
   },
   "outputs": [],
   "source": [
    "# fl16_cols = data.select_dtypes(include=\"float64\")\n",
    "\n",
    "# for c in fl16_cols:\n",
    "#     data[c] = data[c].astype(np.float32)"
   ]
  },
  {
   "cell_type": "code",
   "execution_count": null,
   "id": "bc3022b0-90b4-4622-88e3-1d6f6d61dec1",
   "metadata": {
    "pycharm": {
     "name": "#%%\n"
    }
   },
   "outputs": [],
   "source": [
    "with open(\"data.pkl\", \"wb+\") as fp:\n",
    "    pickle.dump(data, fp)"
   ]
  },
  {
   "cell_type": "code",
   "execution_count": null,
   "id": "929b1964-bf38-4a39-bbcc-0213d952659e",
   "metadata": {
    "pycharm": {
     "name": "#%%\n"
    }
   },
   "outputs": [],
   "source": [
    "with open(\"data.pkl\", \"rb\") as fp:\n",
    "    dpkl = pickle.load(fp)"
   ]
  },
  {
   "cell_type": "code",
   "execution_count": null,
   "id": "3f41c0e5-8b67-4376-9bff-50761172c00a",
   "metadata": {
    "pycharm": {
     "name": "#%%\n"
    }
   },
   "outputs": [],
   "source": [
    "int64_cols = dpkl.select_dtypes(\"int64\")\n",
    "for c in int64_cols:\n",
    "    dpkl[c] = dpkl[c].astype(\"uint8\")"
   ]
  },
  {
   "cell_type": "code",
   "execution_count": null,
   "id": "d174ca5c-3f4c-411e-8791-19b487e87288",
   "metadata": {
    "pycharm": {
     "name": "#%%\n"
    }
   },
   "outputs": [],
   "source": [
    "int64_cols = dpkl.select_dtypes(\"uint8\")\n",
    "for c in int64_cols:\n",
    "    dpkl[c] = dpkl[c].astype(\"category\")"
   ]
  },
  {
   "cell_type": "code",
   "execution_count": null,
   "id": "cfea1674-0ef3-4bf5-8633-901666be9b2c",
   "metadata": {
    "pycharm": {
     "name": "#%%\n"
    }
   },
   "outputs": [],
   "source": [
    "na_mat = dpkl.isna()\n",
    "\n",
    "miss_row = na_mat.sum(axis=1)\n",
    "\n",
    "dpkl[\"missing_cols\"] = miss_row"
   ]
  },
  {
   "cell_type": "code",
   "execution_count": null,
   "id": "6693faec-16e1-490c-82df-7c8114ae0643",
   "metadata": {
    "pycharm": {
     "name": "#%%\n"
    }
   },
   "outputs": [],
   "source": [
    "def feature_one_hot(f, df=dpkl):\n",
    "    f_one_hot = pd.get_dummies(df[f], prefix=str(f))\n",
    "    df = pd.concat([df, f_one_hot], axis=1)\n",
    "    df.drop([f], axis=1, inplace=True)\n",
    "    return df.copy()\n",
    "\n",
    "\n",
    "cats = [x for x in dpkl.columns if \"F_2\" in x]\n",
    "# for c in cats:\n",
    "#     dpkl = feature_one_hot(c)\n",
    "spar = pd.DataFrame()\n",
    "cat_pd = dpkl.loc[:, cats].copy()\n",
    "\n",
    "for fi in cats:\n",
    "    new_n = fi.replace(\"_\", \"\") + \"_\"\n",
    "    f_one_hot = pd.get_dummies(dpkl[fi], prefix=new_n)\n",
    "    spar_ = f_one_hot.astype(pd.SparseDtype(np.uint8, fill_value=0))\n",
    "    for c in spar_.columns:\n",
    "        spar[c] = spar_[c]\n",
    "dpkl = dpkl.drop(cats, axis=1)\n",
    "for c in spar.columns:\n",
    "    dpkl[c] = spar[c]"
   ]
  },
  {
   "cell_type": "code",
   "execution_count": null,
   "id": "d95a5cc3-4ad9-4185-9db0-b20f5b25770e",
   "metadata": {
    "pycharm": {
     "name": "#%%\n"
    }
   },
   "outputs": [],
   "source": [
    "# \"F_2_0\".replace(\"_\", \"\") + \"_\"\n",
    "# spar.info()\n"
   ]
  },
  {
   "cell_type": "code",
   "execution_count": null,
   "id": "34154ac8-d1d4-4208-b676-993401940db3",
   "metadata": {
    "pycharm": {
     "name": "#%%\n"
    }
   },
   "outputs": [],
   "source": [
    "int64_cols = dpkl.select_dtypes(\"int64\")\n",
    "for c in int64_cols:\n",
    "    dpkl[c] = dpkl[c].astype(\"uint8\")"
   ]
  },
  {
   "cell_type": "code",
   "execution_count": null,
   "id": "9fb4e1e8-ed25-461f-95e0-0efd5a7def6a",
   "metadata": {
    "pycharm": {
     "name": "#%%\n"
    }
   },
   "outputs": [],
   "source": [
    "fl16_cols = dpkl.select_dtypes(include=\"float64\")\n",
    "\n",
    "for c in fl16_cols:\n",
    "    dpkl[c] = dpkl[c].astype(np.float32)"
   ]
  },
  {
   "cell_type": "markdown",
   "id": "3e9689d2-3e99-4bfb-b205-f6eab0121748",
   "metadata": {
    "pycharm": {
     "name": "#%% md\n"
    }
   },
   "source": [
    "#### Save Compressed Data"
   ]
  },
  {
   "cell_type": "code",
   "execution_count": null,
   "id": "cbbc9764-ae5e-4d08-b80c-3df8b163f788",
   "metadata": {
    "pycharm": {
     "name": "#%%\n"
    }
   },
   "outputs": [],
   "source": [
    "with open(\"data.pkl\", \"wb+\") as fp:\n",
    "    pickle.dump(dpkl, fp)"
   ]
  },
  {
   "cell_type": "markdown",
   "id": "8d0a169d-ec7f-438c-8a9e-d5077d6f9470",
   "metadata": {
    "pycharm": {
     "name": "#%% md\n"
    }
   },
   "source": [
    "## Load Compressed Data"
   ]
  },
  {
   "cell_type": "code",
   "execution_count": 7,
   "id": "0aedc576-cfeb-4c76-9ba7-ff727f10c581",
   "metadata": {
    "pycharm": {
     "name": "#%%\n"
    }
   },
   "outputs": [
    {
     "data": {
      "text/html": [
       "<div>\n",
       "<style scoped>\n",
       "    .dataframe tbody tr th:only-of-type {\n",
       "        vertical-align: middle;\n",
       "    }\n",
       "\n",
       "    .dataframe tbody tr th {\n",
       "        vertical-align: top;\n",
       "    }\n",
       "\n",
       "    .dataframe thead th {\n",
       "        text-align: right;\n",
       "    }\n",
       "</style>\n",
       "<table border=\"1\" class=\"dataframe\">\n",
       "  <thead>\n",
       "    <tr style=\"text-align: right;\">\n",
       "      <th></th>\n",
       "      <th>F_1_0</th>\n",
       "      <th>F_1_1</th>\n",
       "      <th>F_1_2</th>\n",
       "      <th>F_1_3</th>\n",
       "      <th>F_1_4</th>\n",
       "      <th>F_1_5</th>\n",
       "      <th>F_1_6</th>\n",
       "      <th>F_1_7</th>\n",
       "      <th>F_1_8</th>\n",
       "      <th>F_1_9</th>\n",
       "      <th>F_1_10</th>\n",
       "      <th>F_1_11</th>\n",
       "      <th>F_1_12</th>\n",
       "      <th>F_1_13</th>\n",
       "      <th>F_1_14</th>\n",
       "      <th>F_3_0</th>\n",
       "      <th>F_3_1</th>\n",
       "      <th>F_3_2</th>\n",
       "      <th>F_3_3</th>\n",
       "      <th>F_3_4</th>\n",
       "      <th>F_3_5</th>\n",
       "      <th>F_3_6</th>\n",
       "      <th>F_3_7</th>\n",
       "      <th>F_3_8</th>\n",
       "      <th>F_3_9</th>\n",
       "      <th>...</th>\n",
       "      <th>F223__5</th>\n",
       "      <th>F223__6</th>\n",
       "      <th>F223__7</th>\n",
       "      <th>F223__8</th>\n",
       "      <th>F223__9</th>\n",
       "      <th>F223__10</th>\n",
       "      <th>F223__11</th>\n",
       "      <th>F224__0</th>\n",
       "      <th>F224__1</th>\n",
       "      <th>F224__2</th>\n",
       "      <th>F224__3</th>\n",
       "      <th>F224__4</th>\n",
       "      <th>F224__5</th>\n",
       "      <th>F224__6</th>\n",
       "      <th>F224__7</th>\n",
       "      <th>F224__8</th>\n",
       "      <th>F224__9</th>\n",
       "      <th>F224__10</th>\n",
       "      <th>F224__11</th>\n",
       "      <th>F224__12</th>\n",
       "      <th>F224__13</th>\n",
       "      <th>F224__14</th>\n",
       "      <th>F224__15</th>\n",
       "      <th>F224__16</th>\n",
       "      <th>F224__17</th>\n",
       "    </tr>\n",
       "    <tr>\n",
       "      <th>row_id</th>\n",
       "      <th></th>\n",
       "      <th></th>\n",
       "      <th></th>\n",
       "      <th></th>\n",
       "      <th></th>\n",
       "      <th></th>\n",
       "      <th></th>\n",
       "      <th></th>\n",
       "      <th></th>\n",
       "      <th></th>\n",
       "      <th></th>\n",
       "      <th></th>\n",
       "      <th></th>\n",
       "      <th></th>\n",
       "      <th></th>\n",
       "      <th></th>\n",
       "      <th></th>\n",
       "      <th></th>\n",
       "      <th></th>\n",
       "      <th></th>\n",
       "      <th></th>\n",
       "      <th></th>\n",
       "      <th></th>\n",
       "      <th></th>\n",
       "      <th></th>\n",
       "      <th></th>\n",
       "      <th></th>\n",
       "      <th></th>\n",
       "      <th></th>\n",
       "      <th></th>\n",
       "      <th></th>\n",
       "      <th></th>\n",
       "      <th></th>\n",
       "      <th></th>\n",
       "      <th></th>\n",
       "      <th></th>\n",
       "      <th></th>\n",
       "      <th></th>\n",
       "      <th></th>\n",
       "      <th></th>\n",
       "      <th></th>\n",
       "      <th></th>\n",
       "      <th></th>\n",
       "      <th></th>\n",
       "      <th></th>\n",
       "      <th></th>\n",
       "      <th></th>\n",
       "      <th></th>\n",
       "      <th></th>\n",
       "      <th></th>\n",
       "      <th></th>\n",
       "    </tr>\n",
       "  </thead>\n",
       "  <tbody>\n",
       "    <tr>\n",
       "      <th>0</th>\n",
       "      <td>-0.354591</td>\n",
       "      <td>-0.464038</td>\n",
       "      <td>2.304115</td>\n",
       "      <td>0.734486</td>\n",
       "      <td>1.696395</td>\n",
       "      <td>0.136285</td>\n",
       "      <td>-0.518344</td>\n",
       "      <td>0.502640</td>\n",
       "      <td>-1.852504</td>\n",
       "      <td>-0.500665</td>\n",
       "      <td>-1.416075</td>\n",
       "      <td>1.201521</td>\n",
       "      <td>0.551902</td>\n",
       "      <td>-0.759827</td>\n",
       "      <td>NaN</td>\n",
       "      <td>-0.240522</td>\n",
       "      <td>0.061529</td>\n",
       "      <td>0.561090</td>\n",
       "      <td>-0.171943</td>\n",
       "      <td>-0.431996</td>\n",
       "      <td>0.473508</td>\n",
       "      <td>0.596924</td>\n",
       "      <td>0.819306</td>\n",
       "      <td>1.479061</td>\n",
       "      <td>1.264616</td>\n",
       "      <td>...</td>\n",
       "      <td>0</td>\n",
       "      <td>0</td>\n",
       "      <td>0</td>\n",
       "      <td>0</td>\n",
       "      <td>0</td>\n",
       "      <td>0</td>\n",
       "      <td>0</td>\n",
       "      <td>0</td>\n",
       "      <td>0</td>\n",
       "      <td>1</td>\n",
       "      <td>0</td>\n",
       "      <td>0</td>\n",
       "      <td>0</td>\n",
       "      <td>0</td>\n",
       "      <td>0</td>\n",
       "      <td>0</td>\n",
       "      <td>0</td>\n",
       "      <td>0</td>\n",
       "      <td>0</td>\n",
       "      <td>0</td>\n",
       "      <td>0</td>\n",
       "      <td>0</td>\n",
       "      <td>0</td>\n",
       "      <td>0</td>\n",
       "      <td>0</td>\n",
       "    </tr>\n",
       "    <tr>\n",
       "      <th>1</th>\n",
       "      <td>1.380940</td>\n",
       "      <td>-0.499626</td>\n",
       "      <td>-0.418548</td>\n",
       "      <td>1.911725</td>\n",
       "      <td>-0.826130</td>\n",
       "      <td>-1.715371</td>\n",
       "      <td>-0.577091</td>\n",
       "      <td>-1.041486</td>\n",
       "      <td>0.596067</td>\n",
       "      <td>-0.363425</td>\n",
       "      <td>-0.853630</td>\n",
       "      <td>0.674525</td>\n",
       "      <td>0.843058</td>\n",
       "      <td>-0.041438</td>\n",
       "      <td>0.259496</td>\n",
       "      <td>-0.446068</td>\n",
       "      <td>1.433358</td>\n",
       "      <td>0.040099</td>\n",
       "      <td>-1.994062</td>\n",
       "      <td>-0.602324</td>\n",
       "      <td>-0.611391</td>\n",
       "      <td>-1.151884</td>\n",
       "      <td>0.065485</td>\n",
       "      <td>0.352023</td>\n",
       "      <td>-0.843751</td>\n",
       "      <td>...</td>\n",
       "      <td>0</td>\n",
       "      <td>0</td>\n",
       "      <td>0</td>\n",
       "      <td>0</td>\n",
       "      <td>0</td>\n",
       "      <td>0</td>\n",
       "      <td>0</td>\n",
       "      <td>0</td>\n",
       "      <td>0</td>\n",
       "      <td>0</td>\n",
       "      <td>0</td>\n",
       "      <td>0</td>\n",
       "      <td>1</td>\n",
       "      <td>0</td>\n",
       "      <td>0</td>\n",
       "      <td>0</td>\n",
       "      <td>0</td>\n",
       "      <td>0</td>\n",
       "      <td>0</td>\n",
       "      <td>0</td>\n",
       "      <td>0</td>\n",
       "      <td>0</td>\n",
       "      <td>0</td>\n",
       "      <td>0</td>\n",
       "      <td>0</td>\n",
       "    </tr>\n",
       "    <tr>\n",
       "      <th>2</th>\n",
       "      <td>0.256023</td>\n",
       "      <td>-1.059874</td>\n",
       "      <td>NaN</td>\n",
       "      <td>0.345678</td>\n",
       "      <td>1.513814</td>\n",
       "      <td>1.243864</td>\n",
       "      <td>-0.509648</td>\n",
       "      <td>-0.800481</td>\n",
       "      <td>-0.115945</td>\n",
       "      <td>0.595777</td>\n",
       "      <td>-0.073235</td>\n",
       "      <td>-1.381605</td>\n",
       "      <td>-0.108676</td>\n",
       "      <td>0.703693</td>\n",
       "      <td>-0.464042</td>\n",
       "      <td>-0.770592</td>\n",
       "      <td>0.483139</td>\n",
       "      <td>-0.636484</td>\n",
       "      <td>-1.305018</td>\n",
       "      <td>-2.089889</td>\n",
       "      <td>0.276761</td>\n",
       "      <td>-1.208640</td>\n",
       "      <td>-0.855769</td>\n",
       "      <td>0.232363</td>\n",
       "      <td>0.215841</td>\n",
       "      <td>...</td>\n",
       "      <td>0</td>\n",
       "      <td>0</td>\n",
       "      <td>0</td>\n",
       "      <td>0</td>\n",
       "      <td>0</td>\n",
       "      <td>0</td>\n",
       "      <td>0</td>\n",
       "      <td>0</td>\n",
       "      <td>0</td>\n",
       "      <td>0</td>\n",
       "      <td>0</td>\n",
       "      <td>1</td>\n",
       "      <td>0</td>\n",
       "      <td>0</td>\n",
       "      <td>0</td>\n",
       "      <td>0</td>\n",
       "      <td>0</td>\n",
       "      <td>0</td>\n",
       "      <td>0</td>\n",
       "      <td>0</td>\n",
       "      <td>0</td>\n",
       "      <td>0</td>\n",
       "      <td>0</td>\n",
       "      <td>0</td>\n",
       "      <td>0</td>\n",
       "    </tr>\n",
       "    <tr>\n",
       "      <th>3</th>\n",
       "      <td>-0.728420</td>\n",
       "      <td>-2.432399</td>\n",
       "      <td>-2.453602</td>\n",
       "      <td>-0.020509</td>\n",
       "      <td>0.333397</td>\n",
       "      <td>0.086049</td>\n",
       "      <td>-1.787601</td>\n",
       "      <td>0.667011</td>\n",
       "      <td>0.761564</td>\n",
       "      <td>-2.217847</td>\n",
       "      <td>-0.618973</td>\n",
       "      <td>0.742112</td>\n",
       "      <td>0.494157</td>\n",
       "      <td>0.744673</td>\n",
       "      <td>-0.769181</td>\n",
       "      <td>-0.691020</td>\n",
       "      <td>-1.003026</td>\n",
       "      <td>0.868989</td>\n",
       "      <td>0.464920</td>\n",
       "      <td>NaN</td>\n",
       "      <td>0.499838</td>\n",
       "      <td>0.203723</td>\n",
       "      <td>-0.451576</td>\n",
       "      <td>-1.233499</td>\n",
       "      <td>0.903493</td>\n",
       "      <td>...</td>\n",
       "      <td>0</td>\n",
       "      <td>0</td>\n",
       "      <td>0</td>\n",
       "      <td>0</td>\n",
       "      <td>0</td>\n",
       "      <td>0</td>\n",
       "      <td>0</td>\n",
       "      <td>0</td>\n",
       "      <td>0</td>\n",
       "      <td>1</td>\n",
       "      <td>0</td>\n",
       "      <td>0</td>\n",
       "      <td>0</td>\n",
       "      <td>0</td>\n",
       "      <td>0</td>\n",
       "      <td>0</td>\n",
       "      <td>0</td>\n",
       "      <td>0</td>\n",
       "      <td>0</td>\n",
       "      <td>0</td>\n",
       "      <td>0</td>\n",
       "      <td>0</td>\n",
       "      <td>0</td>\n",
       "      <td>0</td>\n",
       "      <td>0</td>\n",
       "    </tr>\n",
       "    <tr>\n",
       "      <th>4</th>\n",
       "      <td>0.590212</td>\n",
       "      <td>-0.066127</td>\n",
       "      <td>0.468009</td>\n",
       "      <td>-1.096038</td>\n",
       "      <td>0.119399</td>\n",
       "      <td>-1.809710</td>\n",
       "      <td>0.466358</td>\n",
       "      <td>-0.053196</td>\n",
       "      <td>-0.580320</td>\n",
       "      <td>-1.143500</td>\n",
       "      <td>1.338692</td>\n",
       "      <td>1.193330</td>\n",
       "      <td>1.038010</td>\n",
       "      <td>-0.763692</td>\n",
       "      <td>0.513466</td>\n",
       "      <td>1.196402</td>\n",
       "      <td>1.076537</td>\n",
       "      <td>0.486482</td>\n",
       "      <td>0.424305</td>\n",
       "      <td>0.475876</td>\n",
       "      <td>0.426978</td>\n",
       "      <td>-1.668823</td>\n",
       "      <td>-0.843056</td>\n",
       "      <td>1.008980</td>\n",
       "      <td>-0.704152</td>\n",
       "      <td>...</td>\n",
       "      <td>0</td>\n",
       "      <td>0</td>\n",
       "      <td>0</td>\n",
       "      <td>0</td>\n",
       "      <td>0</td>\n",
       "      <td>0</td>\n",
       "      <td>0</td>\n",
       "      <td>0</td>\n",
       "      <td>0</td>\n",
       "      <td>0</td>\n",
       "      <td>0</td>\n",
       "      <td>1</td>\n",
       "      <td>0</td>\n",
       "      <td>0</td>\n",
       "      <td>0</td>\n",
       "      <td>0</td>\n",
       "      <td>0</td>\n",
       "      <td>0</td>\n",
       "      <td>0</td>\n",
       "      <td>0</td>\n",
       "      <td>0</td>\n",
       "      <td>0</td>\n",
       "      <td>0</td>\n",
       "      <td>0</td>\n",
       "      <td>0</td>\n",
       "    </tr>\n",
       "    <tr>\n",
       "      <th>...</th>\n",
       "      <td>...</td>\n",
       "      <td>...</td>\n",
       "      <td>...</td>\n",
       "      <td>...</td>\n",
       "      <td>...</td>\n",
       "      <td>...</td>\n",
       "      <td>...</td>\n",
       "      <td>...</td>\n",
       "      <td>...</td>\n",
       "      <td>...</td>\n",
       "      <td>...</td>\n",
       "      <td>...</td>\n",
       "      <td>...</td>\n",
       "      <td>...</td>\n",
       "      <td>...</td>\n",
       "      <td>...</td>\n",
       "      <td>...</td>\n",
       "      <td>...</td>\n",
       "      <td>...</td>\n",
       "      <td>...</td>\n",
       "      <td>...</td>\n",
       "      <td>...</td>\n",
       "      <td>...</td>\n",
       "      <td>...</td>\n",
       "      <td>...</td>\n",
       "      <td>...</td>\n",
       "      <td>...</td>\n",
       "      <td>...</td>\n",
       "      <td>...</td>\n",
       "      <td>...</td>\n",
       "      <td>...</td>\n",
       "      <td>...</td>\n",
       "      <td>...</td>\n",
       "      <td>...</td>\n",
       "      <td>...</td>\n",
       "      <td>...</td>\n",
       "      <td>...</td>\n",
       "      <td>...</td>\n",
       "      <td>...</td>\n",
       "      <td>...</td>\n",
       "      <td>...</td>\n",
       "      <td>...</td>\n",
       "      <td>...</td>\n",
       "      <td>...</td>\n",
       "      <td>...</td>\n",
       "      <td>...</td>\n",
       "      <td>...</td>\n",
       "      <td>...</td>\n",
       "      <td>...</td>\n",
       "      <td>...</td>\n",
       "      <td>...</td>\n",
       "    </tr>\n",
       "    <tr>\n",
       "      <th>999995</th>\n",
       "      <td>-0.823740</td>\n",
       "      <td>0.285673</td>\n",
       "      <td>0.343307</td>\n",
       "      <td>-0.436747</td>\n",
       "      <td>1.700549</td>\n",
       "      <td>-1.069432</td>\n",
       "      <td>0.819698</td>\n",
       "      <td>-0.168457</td>\n",
       "      <td>-0.429074</td>\n",
       "      <td>0.844075</td>\n",
       "      <td>0.569298</td>\n",
       "      <td>0.235662</td>\n",
       "      <td>0.540328</td>\n",
       "      <td>-0.262106</td>\n",
       "      <td>-1.566722</td>\n",
       "      <td>0.030114</td>\n",
       "      <td>-0.698985</td>\n",
       "      <td>1.176185</td>\n",
       "      <td>-0.621560</td>\n",
       "      <td>-1.042985</td>\n",
       "      <td>-0.340686</td>\n",
       "      <td>0.397049</td>\n",
       "      <td>0.346835</td>\n",
       "      <td>0.142491</td>\n",
       "      <td>-0.161888</td>\n",
       "      <td>...</td>\n",
       "      <td>0</td>\n",
       "      <td>0</td>\n",
       "      <td>0</td>\n",
       "      <td>0</td>\n",
       "      <td>0</td>\n",
       "      <td>0</td>\n",
       "      <td>0</td>\n",
       "      <td>0</td>\n",
       "      <td>0</td>\n",
       "      <td>0</td>\n",
       "      <td>0</td>\n",
       "      <td>0</td>\n",
       "      <td>0</td>\n",
       "      <td>1</td>\n",
       "      <td>0</td>\n",
       "      <td>0</td>\n",
       "      <td>0</td>\n",
       "      <td>0</td>\n",
       "      <td>0</td>\n",
       "      <td>0</td>\n",
       "      <td>0</td>\n",
       "      <td>0</td>\n",
       "      <td>0</td>\n",
       "      <td>0</td>\n",
       "      <td>0</td>\n",
       "    </tr>\n",
       "    <tr>\n",
       "      <th>999996</th>\n",
       "      <td>-0.769106</td>\n",
       "      <td>-0.387363</td>\n",
       "      <td>-1.227469</td>\n",
       "      <td>0.601183</td>\n",
       "      <td>0.351161</td>\n",
       "      <td>0.219475</td>\n",
       "      <td>-0.530277</td>\n",
       "      <td>0.853452</td>\n",
       "      <td>0.608646</td>\n",
       "      <td>1.648023</td>\n",
       "      <td>-0.040150</td>\n",
       "      <td>-1.235223</td>\n",
       "      <td>0.834497</td>\n",
       "      <td>1.385112</td>\n",
       "      <td>-1.575306</td>\n",
       "      <td>-0.558337</td>\n",
       "      <td>-0.578057</td>\n",
       "      <td>-0.161824</td>\n",
       "      <td>0.507185</td>\n",
       "      <td>-1.523946</td>\n",
       "      <td>0.354188</td>\n",
       "      <td>1.644721</td>\n",
       "      <td>0.809869</td>\n",
       "      <td>-0.483379</td>\n",
       "      <td>0.568550</td>\n",
       "      <td>...</td>\n",
       "      <td>0</td>\n",
       "      <td>0</td>\n",
       "      <td>0</td>\n",
       "      <td>0</td>\n",
       "      <td>0</td>\n",
       "      <td>0</td>\n",
       "      <td>0</td>\n",
       "      <td>0</td>\n",
       "      <td>0</td>\n",
       "      <td>1</td>\n",
       "      <td>0</td>\n",
       "      <td>0</td>\n",
       "      <td>0</td>\n",
       "      <td>0</td>\n",
       "      <td>0</td>\n",
       "      <td>0</td>\n",
       "      <td>0</td>\n",
       "      <td>0</td>\n",
       "      <td>0</td>\n",
       "      <td>0</td>\n",
       "      <td>0</td>\n",
       "      <td>0</td>\n",
       "      <td>0</td>\n",
       "      <td>0</td>\n",
       "      <td>0</td>\n",
       "    </tr>\n",
       "    <tr>\n",
       "      <th>999997</th>\n",
       "      <td>0.147534</td>\n",
       "      <td>-0.715276</td>\n",
       "      <td>-0.465049</td>\n",
       "      <td>-1.988941</td>\n",
       "      <td>-1.594535</td>\n",
       "      <td>-1.044882</td>\n",
       "      <td>3.159455</td>\n",
       "      <td>-0.634108</td>\n",
       "      <td>0.890382</td>\n",
       "      <td>-1.212444</td>\n",
       "      <td>-0.874219</td>\n",
       "      <td>0.926165</td>\n",
       "      <td>-0.970726</td>\n",
       "      <td>-1.832919</td>\n",
       "      <td>0.860467</td>\n",
       "      <td>0.141970</td>\n",
       "      <td>-1.507377</td>\n",
       "      <td>0.037872</td>\n",
       "      <td>0.710494</td>\n",
       "      <td>-0.212684</td>\n",
       "      <td>1.961995</td>\n",
       "      <td>0.141009</td>\n",
       "      <td>-0.072367</td>\n",
       "      <td>-0.922849</td>\n",
       "      <td>2.934152</td>\n",
       "      <td>...</td>\n",
       "      <td>0</td>\n",
       "      <td>0</td>\n",
       "      <td>0</td>\n",
       "      <td>0</td>\n",
       "      <td>0</td>\n",
       "      <td>0</td>\n",
       "      <td>0</td>\n",
       "      <td>0</td>\n",
       "      <td>0</td>\n",
       "      <td>0</td>\n",
       "      <td>0</td>\n",
       "      <td>1</td>\n",
       "      <td>0</td>\n",
       "      <td>0</td>\n",
       "      <td>0</td>\n",
       "      <td>0</td>\n",
       "      <td>0</td>\n",
       "      <td>0</td>\n",
       "      <td>0</td>\n",
       "      <td>0</td>\n",
       "      <td>0</td>\n",
       "      <td>0</td>\n",
       "      <td>0</td>\n",
       "      <td>0</td>\n",
       "      <td>0</td>\n",
       "    </tr>\n",
       "    <tr>\n",
       "      <th>999998</th>\n",
       "      <td>-1.709886</td>\n",
       "      <td>-0.813785</td>\n",
       "      <td>-1.866536</td>\n",
       "      <td>-0.179420</td>\n",
       "      <td>2.231478</td>\n",
       "      <td>1.460122</td>\n",
       "      <td>-0.220585</td>\n",
       "      <td>-0.118496</td>\n",
       "      <td>-0.140064</td>\n",
       "      <td>1.362596</td>\n",
       "      <td>-1.469418</td>\n",
       "      <td>0.984130</td>\n",
       "      <td>-1.502292</td>\n",
       "      <td>-0.404490</td>\n",
       "      <td>-0.420554</td>\n",
       "      <td>0.499725</td>\n",
       "      <td>-0.639220</td>\n",
       "      <td>-1.064335</td>\n",
       "      <td>-0.038623</td>\n",
       "      <td>-0.419026</td>\n",
       "      <td>-1.444709</td>\n",
       "      <td>-0.255096</td>\n",
       "      <td>-1.259260</td>\n",
       "      <td>-0.365950</td>\n",
       "      <td>-0.839451</td>\n",
       "      <td>...</td>\n",
       "      <td>0</td>\n",
       "      <td>0</td>\n",
       "      <td>0</td>\n",
       "      <td>0</td>\n",
       "      <td>0</td>\n",
       "      <td>0</td>\n",
       "      <td>0</td>\n",
       "      <td>0</td>\n",
       "      <td>0</td>\n",
       "      <td>1</td>\n",
       "      <td>0</td>\n",
       "      <td>0</td>\n",
       "      <td>0</td>\n",
       "      <td>0</td>\n",
       "      <td>0</td>\n",
       "      <td>0</td>\n",
       "      <td>0</td>\n",
       "      <td>0</td>\n",
       "      <td>0</td>\n",
       "      <td>0</td>\n",
       "      <td>0</td>\n",
       "      <td>0</td>\n",
       "      <td>0</td>\n",
       "      <td>0</td>\n",
       "      <td>0</td>\n",
       "    </tr>\n",
       "    <tr>\n",
       "      <th>999999</th>\n",
       "      <td>-0.806380</td>\n",
       "      <td>-0.025251</td>\n",
       "      <td>-0.875477</td>\n",
       "      <td>0.802440</td>\n",
       "      <td>0.889492</td>\n",
       "      <td>-1.030684</td>\n",
       "      <td>-0.209134</td>\n",
       "      <td>-0.341420</td>\n",
       "      <td>2.367991</td>\n",
       "      <td>0.314807</td>\n",
       "      <td>-0.552680</td>\n",
       "      <td>-0.474998</td>\n",
       "      <td>-0.962963</td>\n",
       "      <td>0.794223</td>\n",
       "      <td>0.275021</td>\n",
       "      <td>0.551554</td>\n",
       "      <td>-1.210823</td>\n",
       "      <td>0.827374</td>\n",
       "      <td>-0.933345</td>\n",
       "      <td>1.696698</td>\n",
       "      <td>-1.399898</td>\n",
       "      <td>0.610133</td>\n",
       "      <td>0.832833</td>\n",
       "      <td>1.087776</td>\n",
       "      <td>-0.975159</td>\n",
       "      <td>...</td>\n",
       "      <td>0</td>\n",
       "      <td>0</td>\n",
       "      <td>0</td>\n",
       "      <td>0</td>\n",
       "      <td>0</td>\n",
       "      <td>0</td>\n",
       "      <td>0</td>\n",
       "      <td>0</td>\n",
       "      <td>0</td>\n",
       "      <td>0</td>\n",
       "      <td>0</td>\n",
       "      <td>1</td>\n",
       "      <td>0</td>\n",
       "      <td>0</td>\n",
       "      <td>0</td>\n",
       "      <td>0</td>\n",
       "      <td>0</td>\n",
       "      <td>0</td>\n",
       "      <td>0</td>\n",
       "      <td>0</td>\n",
       "      <td>0</td>\n",
       "      <td>0</td>\n",
       "      <td>0</td>\n",
       "      <td>0</td>\n",
       "      <td>0</td>\n",
       "    </tr>\n",
       "  </tbody>\n",
       "</table>\n",
       "<p>1000000 rows × 424 columns</p>\n",
       "</div>"
      ],
      "text/plain": [
       "           F_1_0     F_1_1     F_1_2     F_1_3     F_1_4     F_1_5     F_1_6  \\\n",
       "row_id                                                                         \n",
       "0      -0.354591 -0.464038  2.304115  0.734486  1.696395  0.136285 -0.518344   \n",
       "1       1.380940 -0.499626 -0.418548  1.911725 -0.826130 -1.715371 -0.577091   \n",
       "2       0.256023 -1.059874       NaN  0.345678  1.513814  1.243864 -0.509648   \n",
       "3      -0.728420 -2.432399 -2.453602 -0.020509  0.333397  0.086049 -1.787601   \n",
       "4       0.590212 -0.066127  0.468009 -1.096038  0.119399 -1.809710  0.466358   \n",
       "...          ...       ...       ...       ...       ...       ...       ...   \n",
       "999995 -0.823740  0.285673  0.343307 -0.436747  1.700549 -1.069432  0.819698   \n",
       "999996 -0.769106 -0.387363 -1.227469  0.601183  0.351161  0.219475 -0.530277   \n",
       "999997  0.147534 -0.715276 -0.465049 -1.988941 -1.594535 -1.044882  3.159455   \n",
       "999998 -1.709886 -0.813785 -1.866536 -0.179420  2.231478  1.460122 -0.220585   \n",
       "999999 -0.806380 -0.025251 -0.875477  0.802440  0.889492 -1.030684 -0.209134   \n",
       "\n",
       "           F_1_7     F_1_8     F_1_9    F_1_10    F_1_11    F_1_12    F_1_13  \\\n",
       "row_id                                                                         \n",
       "0       0.502640 -1.852504 -0.500665 -1.416075  1.201521  0.551902 -0.759827   \n",
       "1      -1.041486  0.596067 -0.363425 -0.853630  0.674525  0.843058 -0.041438   \n",
       "2      -0.800481 -0.115945  0.595777 -0.073235 -1.381605 -0.108676  0.703693   \n",
       "3       0.667011  0.761564 -2.217847 -0.618973  0.742112  0.494157  0.744673   \n",
       "4      -0.053196 -0.580320 -1.143500  1.338692  1.193330  1.038010 -0.763692   \n",
       "...          ...       ...       ...       ...       ...       ...       ...   \n",
       "999995 -0.168457 -0.429074  0.844075  0.569298  0.235662  0.540328 -0.262106   \n",
       "999996  0.853452  0.608646  1.648023 -0.040150 -1.235223  0.834497  1.385112   \n",
       "999997 -0.634108  0.890382 -1.212444 -0.874219  0.926165 -0.970726 -1.832919   \n",
       "999998 -0.118496 -0.140064  1.362596 -1.469418  0.984130 -1.502292 -0.404490   \n",
       "999999 -0.341420  2.367991  0.314807 -0.552680 -0.474998 -0.962963  0.794223   \n",
       "\n",
       "          F_1_14     F_3_0     F_3_1     F_3_2     F_3_3     F_3_4     F_3_5  \\\n",
       "row_id                                                                         \n",
       "0            NaN -0.240522  0.061529  0.561090 -0.171943 -0.431996  0.473508   \n",
       "1       0.259496 -0.446068  1.433358  0.040099 -1.994062 -0.602324 -0.611391   \n",
       "2      -0.464042 -0.770592  0.483139 -0.636484 -1.305018 -2.089889  0.276761   \n",
       "3      -0.769181 -0.691020 -1.003026  0.868989  0.464920       NaN  0.499838   \n",
       "4       0.513466  1.196402  1.076537  0.486482  0.424305  0.475876  0.426978   \n",
       "...          ...       ...       ...       ...       ...       ...       ...   \n",
       "999995 -1.566722  0.030114 -0.698985  1.176185 -0.621560 -1.042985 -0.340686   \n",
       "999996 -1.575306 -0.558337 -0.578057 -0.161824  0.507185 -1.523946  0.354188   \n",
       "999997  0.860467  0.141970 -1.507377  0.037872  0.710494 -0.212684  1.961995   \n",
       "999998 -0.420554  0.499725 -0.639220 -1.064335 -0.038623 -0.419026 -1.444709   \n",
       "999999  0.275021  0.551554 -1.210823  0.827374 -0.933345  1.696698 -1.399898   \n",
       "\n",
       "           F_3_6     F_3_7     F_3_8     F_3_9  ...  F223__5  F223__6  \\\n",
       "row_id                                          ...                     \n",
       "0       0.596924  0.819306  1.479061  1.264616  ...        0        0   \n",
       "1      -1.151884  0.065485  0.352023 -0.843751  ...        0        0   \n",
       "2      -1.208640 -0.855769  0.232363  0.215841  ...        0        0   \n",
       "3       0.203723 -0.451576 -1.233499  0.903493  ...        0        0   \n",
       "4      -1.668823 -0.843056  1.008980 -0.704152  ...        0        0   \n",
       "...          ...       ...       ...       ...  ...      ...      ...   \n",
       "999995  0.397049  0.346835  0.142491 -0.161888  ...        0        0   \n",
       "999996  1.644721  0.809869 -0.483379  0.568550  ...        0        0   \n",
       "999997  0.141009 -0.072367 -0.922849  2.934152  ...        0        0   \n",
       "999998 -0.255096 -1.259260 -0.365950 -0.839451  ...        0        0   \n",
       "999999  0.610133  0.832833  1.087776 -0.975159  ...        0        0   \n",
       "\n",
       "        F223__7  F223__8  F223__9  F223__10  F223__11  F224__0  F224__1  \\\n",
       "row_id                                                                    \n",
       "0             0        0        0         0         0        0        0   \n",
       "1             0        0        0         0         0        0        0   \n",
       "2             0        0        0         0         0        0        0   \n",
       "3             0        0        0         0         0        0        0   \n",
       "4             0        0        0         0         0        0        0   \n",
       "...         ...      ...      ...       ...       ...      ...      ...   \n",
       "999995        0        0        0         0         0        0        0   \n",
       "999996        0        0        0         0         0        0        0   \n",
       "999997        0        0        0         0         0        0        0   \n",
       "999998        0        0        0         0         0        0        0   \n",
       "999999        0        0        0         0         0        0        0   \n",
       "\n",
       "        F224__2  F224__3  F224__4  F224__5  F224__6  F224__7  F224__8  \\\n",
       "row_id                                                                  \n",
       "0             1        0        0        0        0        0        0   \n",
       "1             0        0        0        1        0        0        0   \n",
       "2             0        0        1        0        0        0        0   \n",
       "3             1        0        0        0        0        0        0   \n",
       "4             0        0        1        0        0        0        0   \n",
       "...         ...      ...      ...      ...      ...      ...      ...   \n",
       "999995        0        0        0        0        1        0        0   \n",
       "999996        1        0        0        0        0        0        0   \n",
       "999997        0        0        1        0        0        0        0   \n",
       "999998        1        0        0        0        0        0        0   \n",
       "999999        0        0        1        0        0        0        0   \n",
       "\n",
       "        F224__9  F224__10  F224__11  F224__12  F224__13  F224__14  F224__15  \\\n",
       "row_id                                                                        \n",
       "0             0         0         0         0         0         0         0   \n",
       "1             0         0         0         0         0         0         0   \n",
       "2             0         0         0         0         0         0         0   \n",
       "3             0         0         0         0         0         0         0   \n",
       "4             0         0         0         0         0         0         0   \n",
       "...         ...       ...       ...       ...       ...       ...       ...   \n",
       "999995        0         0         0         0         0         0         0   \n",
       "999996        0         0         0         0         0         0         0   \n",
       "999997        0         0         0         0         0         0         0   \n",
       "999998        0         0         0         0         0         0         0   \n",
       "999999        0         0         0         0         0         0         0   \n",
       "\n",
       "        F224__16  F224__17  \n",
       "row_id                      \n",
       "0              0         0  \n",
       "1              0         0  \n",
       "2              0         0  \n",
       "3              0         0  \n",
       "4              0         0  \n",
       "...          ...       ...  \n",
       "999995         0         0  \n",
       "999996         0         0  \n",
       "999997         0         0  \n",
       "999998         0         0  \n",
       "999999         0         0  \n",
       "\n",
       "[1000000 rows x 424 columns]"
      ]
     },
     "execution_count": 7,
     "metadata": {},
     "output_type": "execute_result"
    }
   ],
   "source": [
    "dpkl"
   ]
  },
  {
   "cell_type": "code",
   "execution_count": null,
   "id": "49ef29e7-c2c5-4e30-88f9-4d0f0f398a9e",
   "metadata": {
    "pycharm": {
     "name": "#%%\n"
    }
   },
   "outputs": [],
   "source": [
    "dpkl.info()"
   ]
  },
  {
   "cell_type": "code",
   "execution_count": null,
   "id": "090ef668-963b-479d-afa4-f1f70de4e9fb",
   "metadata": {
    "pycharm": {
     "name": "#%%\n"
    }
   },
   "outputs": [],
   "source": [
    "# float 64\n",
    "dpkl.head()"
   ]
  },
  {
   "cell_type": "markdown",
   "id": "00439085-69d6-4e64-9b46-a96dc29cc403",
   "metadata": {
    "pycharm": {
     "name": "#%% md\n"
    }
   },
   "source": [
    "# ML"
   ]
  },
  {
   "cell_type": "code",
   "execution_count": 2,
   "id": "55d3a597-588e-41e1-bec1-9d2f4e5edf28",
   "metadata": {
    "pycharm": {
     "name": "#%%\n"
    }
   },
   "outputs": [],
   "source": [
    "%reload_ext cython\n",
    "import os\n",
    "\n",
    "os.environ[\"CC\"] = \"icx\"\n",
    "os.environ[\"CXX\"] = \"icpx\""
   ]
  },
  {
   "cell_type": "code",
   "execution_count": 2,
   "id": "12810c5a-8543-4af4-8b10-4ef337558a70",
   "metadata": {
    "tags": [
     "hide_output",
     "collapsed",
     "hide_code"
    ],
    "pycharm": {
     "name": "#%%\n"
    }
   },
   "outputs": [],
   "source": [
    "# define NPY_NO_DEPRECATED_API NPY_1_7_API_VERSION\" [-W#warnings]\n",
    "import pickle\n",
    "import warnings\n",
    "\n",
    "import numpy as np\n",
    "# cimport pandas as pd\n",
    "from sklearn.ensemble import RandomForestRegressor\n",
    "from sklearn.linear_model import PassiveAggressiveRegressor\n",
    "from sklearn.metrics import mean_squared_error\n",
    "from sklearn.model_selection import KFold\n",
    "from sklearn.neural_network import MLPRegressor\n",
    "from sklearn.pipeline import make_pipeline\n",
    "from sklearn.preprocessing import StandardScaler\n",
    "from sklearnex import patch_sklearn\n",
    "from sklearnex._device_offload import _get_device_info_from_daal4py\n",
    "from sklearnex.ensemble import RandomForestRegressor as rfe\n",
    "from sklearnex.model_selection import train_test_split\n",
    "\n",
    "# cpdef load():\n",
    "#     with open(\"data.pkl\", \"rb\") as fp:\n",
    "#         dpkl = pickle.load(fp)\n",
    "#     return dpkl\n",
    "# def load():\n",
    "#     return loading()"
   ]
  },
  {
   "cell_type": "code",
   "execution_count": 3,
   "id": "ca309261-5b3b-4e3c-ab33-d4e3753577aa",
   "metadata": {
    "tags": [],
    "pycharm": {
     "name": "#%%\n"
    }
   },
   "outputs": [],
   "source": [
    "%%cython -+\n",
    "import pickle\n",
    "\n",
    "import pandas as pd\n",
    "\n",
    "\n",
    "cpdef sv(df: pd.DataFrame, name: str):\n",
    "    with open(f'{name}.pkl', 'wb+') as fp:\n",
    "        pickle.dump(df, fp)\n",
    "cpdef load():\n",
    "    with open(\"data.pkl\", \"rb\") as fp:\n",
    "        dpkl = pickle.load(fp)\n",
    "    return dpkl\n",
    "cpdef pkload(fn):\n",
    "    with open(fn+'.pkl', \"rb\") as fp:\n",
    "        dpkl = pickle.load(fp)\n",
    "    return dpkl"
   ]
  },
  {
   "cell_type": "markdown",
   "id": "079532b0-469b-467f-b45f-abf4b0aa8d3b",
   "metadata": {
    "pycharm": {
     "name": "#%% md\n"
    }
   },
   "source": [
    "### TRial 2"
   ]
  },
  {
   "cell_type": "code",
   "execution_count": 14,
   "id": "8fc21006-cef1-4d44-801c-a1057e57b141",
   "metadata": {
    "pycharm": {
     "name": "#%%\n"
    }
   },
   "outputs": [
    {
     "name": "stdout",
     "output_type": "stream",
     "text": [
      "CPU times: user 58.5 ms, sys: 40.3 ms, total: 98.8 ms\n",
      "Wall time: 102 ms\n"
     ]
    }
   ],
   "source": [
    "# from __main__ import *\n",
    "%time dpkl = load()"
   ]
  },
  {
   "cell_type": "code",
   "execution_count": null,
   "id": "a7a9e43f-0aee-4f24-906e-f23e31ee2696",
   "metadata": {
    "pycharm": {
     "name": "#%%\n"
    }
   },
   "outputs": [],
   "source": [
    "from num"
   ]
  },
  {
   "cell_type": "code",
   "execution_count": 16,
   "id": "d3418da8-c3c3-4245-87f9-501a5370afd0",
   "metadata": {
    "pycharm": {
     "name": "#%%\n"
    }
   },
   "outputs": [
    {
     "name": "stdout",
     "output_type": "stream",
     "text": [
      "CPU times: user 1.09 ms, sys: 4.7 ms, total: 5.8 ms\n",
      "Wall time: 5.11 ms\n"
     ]
    }
   ],
   "source": [
    "# cols_missing = dpkl.missing_cols.copy()\n",
    "# sv(cols_missing, 'missing_data')\n",
    "%time cols_missing = pkload('missing_data')"
   ]
  },
  {
   "cell_type": "code",
   "execution_count": 17,
   "id": "f00d72f6-1e7e-49c1-934a-183b7571db69",
   "metadata": {
    "pycharm": {
     "name": "#%%\n"
    }
   },
   "outputs": [],
   "source": [
    "pristine = cols_missing[cols_missing == 0].index\n",
    "\n",
    "# mf<n> :\n",
    "# mf : missing_features\n",
    "# n : count\n",
    "mf1 = cols_missing[cols_missing == 1]"
   ]
  },
  {
   "cell_type": "code",
   "execution_count": 13,
   "id": "20de4893-5e43-4b75-9d0f-527151e80d2f",
   "metadata": {
    "pycharm": {
     "name": "#%%\n"
    }
   },
   "outputs": [],
   "source": [
    "mf1_data = dpkl.loc[mf1, :].drop([\"missing_cols\"], axis=1)"
   ]
  },
  {
   "cell_type": "code",
   "execution_count": 14,
   "id": "fc8f6403-34c6-4ab8-aab0-885a3ab6fc96",
   "metadata": {
    "pycharm": {
     "name": "#%%\n"
    }
   },
   "outputs": [
    {
     "data": {
      "text/plain": [
       "(370798, 423)"
      ]
     },
     "execution_count": 14,
     "metadata": {},
     "output_type": "execute_result"
    }
   ],
   "source": [
    "mf1_data.shape"
   ]
  },
  {
   "cell_type": "code",
   "execution_count": 9,
   "id": "61646495-00b8-433b-a50c-608e453be624",
   "metadata": {
    "pycharm": {
     "name": "#%%\n"
    }
   },
   "outputs": [],
   "source": [
    "q = dpkl.to_numpy()\n",
    "w = mf1.to_numpy()"
   ]
  },
  {
   "cell_type": "code",
   "execution_count": 10,
   "id": "736cc578-4f96-4b59-b792-d22fe7185984",
   "metadata": {
    "pycharm": {
     "name": "#%%\n"
    }
   },
   "outputs": [],
   "source": [
    "e = q[w, :423]"
   ]
  },
  {
   "cell_type": "code",
   "execution_count": 11,
   "id": "10db9f14-96b8-4431-9324-36cb36ef68e9",
   "metadata": {
    "pycharm": {
     "name": "#%%\n"
    }
   },
   "outputs": [
    {
     "data": {
      "text/plain": [
       "(370798, 423)"
      ]
     },
     "execution_count": 11,
     "metadata": {},
     "output_type": "execute_result"
    }
   ],
   "source": [
    "e.shape"
   ]
  },
  {
   "cell_type": "code",
   "execution_count": 1,
   "id": "f182a0f6-29cb-4c8b-a395-782d6909f317",
   "metadata": {
    "pycharm": {
     "name": "#%%\n"
    }
   },
   "outputs": [
    {
     "name": "stderr",
     "output_type": "stream",
     "text": [
      "TBB Warning: The number of workers is currently limited to 3. The request for 31 workers is ignored. Further requests for more workers will be silently ignored until the limit changes.\n",
      "\n"
     ]
    }
   ],
   "source": [
    "import dpctl\n",
    "import numpy as np\n",
    "from numba import njit\n",
    "\n",
    "\n",
    "@njit\n",
    "def f1(a, b):\n",
    "    c = a + b\n",
    "    return c\n",
    "\n",
    "\n",
    "global_size = 64\n",
    "local_size = 32\n",
    "N = global_size * local_size\n",
    "a = np.ones(N, dtype=np.float32)\n",
    "b = np.ones(N, dtype=np.float32)\n",
    "with dpctl.device_context(\"level_zero:gpu:0\"):\n",
    "    c = f1(a, b)"
   ]
  },
  {
   "cell_type": "code",
   "execution_count": 1,
   "id": "bac0192a-f411-4183-b9a7-48ae596be300",
   "metadata": {
    "pycharm": {
     "name": "#%%\n"
    }
   },
   "outputs": [],
   "source": [
    "import pickle\n",
    "\n",
    "import dpctl\n",
    "import numpy as np\n",
    "import pandas as pd\n",
    "from numba import njit\n",
    "\n",
    "\n",
    "def conn():\n",
    "    with open(\"data.pkl\", \"rb\") as fp:\n",
    "        dpkl = pickle.load(fp)\n",
    "    return dpkl\n",
    "\n",
    "\n",
    "class DB:\n",
    "    def __init__(self):\n",
    "        self.df: pd.DataFrame = conn()\n",
    "        self.ndf: np.array = self.df.to_numpy()\n",
    "        # removing the missing_cols\n",
    "\n",
    "    @staticmethod\n",
    "    def sv(data: pd.DataFrame, name: str):\n",
    "        with open(f\"{name}.pkl\", \"wb+\") as fp:\n",
    "            pickle.dump(data, fp)\n",
    "\n",
    "    @staticmethod\n",
    "    def pkload(fn):\n",
    "        with open(fn + \".pkl\", \"rb\") as fp:\n",
    "            data = pickle.load(fp)\n",
    "        return data\n",
    "\n",
    "\n",
    "if __name__ == \"__main__\":\n",
    "    pass"
   ]
  },
  {
   "cell_type": "code",
   "execution_count": 2,
   "id": "428a88a8-6d07-4274-91e3-edd0ee5f5616",
   "metadata": {
    "pycharm": {
     "name": "#%%\n"
    }
   },
   "outputs": [],
   "source": [
    "D = DB()"
   ]
  },
  {
   "cell_type": "code",
   "execution_count": 3,
   "id": "668a33b5-9373-4583-a441-85271745dd35",
   "metadata": {
    "pycharm": {
     "name": "#%%\n"
    }
   },
   "outputs": [],
   "source": [
    "e = D.pkload(\"missing_data\")"
   ]
  },
  {
   "cell_type": "code",
   "execution_count": 4,
   "id": "0a547899-5b18-4017-a5d4-ac31bea06a13",
   "metadata": {
    "pycharm": {
     "name": "#%%\n"
    }
   },
   "outputs": [],
   "source": [
    "tm = D.df.drop([\"missing_cols\"], axis=1)"
   ]
  },
  {
   "cell_type": "code",
   "execution_count": 6,
   "id": "5422ca13-5489-48a8-af51-8fed11c605aa",
   "metadata": {
    "pycharm": {
     "name": "#%%\n"
    }
   },
   "outputs": [],
   "source": [
    "D.sv(tm, \"data\")"
   ]
  },
  {
   "cell_type": "code",
   "execution_count": 10,
   "id": "a252ee00-07f9-472f-8aaa-8d1f8b8fa950",
   "metadata": {
    "pycharm": {
     "name": "#%%\n"
    }
   },
   "outputs": [
    {
     "data": {
      "text/plain": [
       "(1000000, 423)"
      ]
     },
     "execution_count": 10,
     "metadata": {},
     "output_type": "execute_result"
    }
   ],
   "source": [
    "D.df.shape"
   ]
  },
  {
   "cell_type": "code",
   "execution_count": 1,
   "id": "92f4a060-5567-4fd9-bd21-86edba4e5b16",
   "metadata": {
    "pycharm": {
     "name": "#%%\n"
    }
   },
   "outputs": [
    {
     "name": "stderr",
     "output_type": "stream",
     "text": [
      "TBB Warning: The number of workers is currently limited to 3. The request for 31 workers is ignored. Further requests for more workers will be silently ignored until the limit changes.\n",
      "\n"
     ]
    }
   ],
   "source": [
    "from db_store import DB\n",
    "\n",
    "e = DB()\n",
    "s = e.data_missing_cols(0)\n",
    "# e.ndf.shape"
   ]
  },
  {
   "cell_type": "code",
   "execution_count": 2,
   "id": "3fa9dc05-a8ce-40e1-9b55-f4e61c26e922",
   "metadata": {
    "pycharm": {
     "name": "#%%\n"
    }
   },
   "outputs": [],
   "source": [
    "import pickle\n",
    "\n",
    "import dpctl\n",
    "import numpy as np\n",
    "import pandas as pd\n",
    "from numba import njit\n",
    "from sklearn.preprocessing import StandardScaler\n",
    "\n",
    "# ww = e.missing_data"
   ]
  },
  {
   "cell_type": "code",
   "execution_count": 2,
   "id": "beed0f46-4232-45c3-b6ed-61d39c7cd6c1",
   "metadata": {
    "pycharm": {
     "name": "#%%\n"
    }
   },
   "outputs": [
    {
     "data": {
      "text/plain": [
       "(185543, 423)"
      ]
     },
     "execution_count": 2,
     "metadata": {},
     "output_type": "execute_result"
    }
   ],
   "source": [
    "s.shape"
   ]
  },
  {
   "cell_type": "code",
   "execution_count": 2,
   "id": "d4e3af05-a412-4e5f-8250-f327ac423170",
   "metadata": {
    "pycharm": {
     "name": "#%%\n"
    }
   },
   "outputs": [
    {
     "name": "stdout",
     "output_type": "stream",
     "text": [
      "Get a list of all devices:\n",
      "\n",
      "    Name            Intel(R) FPGA Emulation Device\n",
      "    Driver version  2022.13.3.0.16_160000\n",
      "    Vendor          Intel(R) Corporation\n",
      "    Profile         EMBEDDED_PROFILE\n",
      "    Filter string   opencl:accelerator:0\n",
      "\n",
      "    Name            11th Gen Intel(R) Core(TM) i3-1115G4 @ 3.00GHz\n",
      "    Driver version  2022.13.3.0.16_160000\n",
      "    Vendor          Intel(R) Corporation\n",
      "    Profile         FULL_PROFILE\n",
      "    Filter string   opencl:cpu:0\n",
      "\n",
      "    Name            Intel(R) FPGA Emulation Device\n",
      "    Driver version  2022.13.3.0.16_160000\n",
      "    Vendor          Intel(R) Corporation\n",
      "    Profile         EMBEDDED_PROFILE\n",
      "    Filter string   opencl:accelerator:1\n",
      "\n",
      "    Name            11th Gen Intel(R) Core(TM) i3-1115G4 @ 3.00GHz\n",
      "    Driver version  2022.13.3.0.16_160000\n",
      "    Vendor          Intel(R) Corporation\n",
      "    Profile         FULL_PROFILE\n",
      "    Filter string   opencl:cpu:1\n",
      "\n",
      "    Name            Intel(R) UHD Graphics [0x9a78]\n",
      "    Driver version  22.22.23355\n",
      "    Vendor          Intel(R) Corporation\n",
      "    Profile         FULL_PROFILE\n",
      "    Filter string   opencl:gpu:0\n",
      "\n",
      "    Name            Intel(R) UHD Graphics [0x9a78]\n",
      "    Driver version  1.3.23355\n",
      "    Vendor          Intel(R) Corporation\n",
      "    Profile         FULL_PROFILE\n",
      "    Filter string   ext_oneapi_level_zero:gpu:0\n",
      "\n",
      "=======================================\n",
      "\n",
      "Get the list of only OpenCL devices:\n",
      "\n",
      "    Name            Intel(R) FPGA Emulation Device\n",
      "    Driver version  2022.13.3.0.16_160000\n",
      "    Vendor          Intel(R) Corporation\n",
      "    Profile         EMBEDDED_PROFILE\n",
      "    Filter string   opencl:accelerator:0\n",
      "\n",
      "    Name            11th Gen Intel(R) Core(TM) i3-1115G4 @ 3.00GHz\n",
      "    Driver version  2022.13.3.0.16_160000\n",
      "    Vendor          Intel(R) Corporation\n",
      "    Profile         FULL_PROFILE\n",
      "    Filter string   opencl:cpu:0\n",
      "\n",
      "    Name            Intel(R) FPGA Emulation Device\n",
      "    Driver version  2022.13.3.0.16_160000\n",
      "    Vendor          Intel(R) Corporation\n",
      "    Profile         EMBEDDED_PROFILE\n",
      "    Filter string   opencl:accelerator:1\n",
      "\n",
      "    Name            11th Gen Intel(R) Core(TM) i3-1115G4 @ 3.00GHz\n",
      "    Driver version  2022.13.3.0.16_160000\n",
      "    Vendor          Intel(R) Corporation\n",
      "    Profile         FULL_PROFILE\n",
      "    Filter string   opencl:cpu:1\n",
      "\n",
      "    Name            Intel(R) UHD Graphics [0x9a78]\n",
      "    Driver version  22.22.23355\n",
      "    Vendor          Intel(R) Corporation\n",
      "    Profile         FULL_PROFILE\n",
      "    Filter string   opencl:gpu:0\n",
      "\n",
      "=======================================\n",
      "\n",
      "Get all OpenCL CPU devices:\n",
      "\n",
      "    Name            11th Gen Intel(R) Core(TM) i3-1115G4 @ 3.00GHz\n",
      "    Driver version  2022.13.3.0.16_160000\n",
      "    Vendor          Intel(R) Corporation\n",
      "    Profile         FULL_PROFILE\n",
      "    Filter string   opencl:cpu:0\n",
      "\n",
      "    Name            11th Gen Intel(R) Core(TM) i3-1115G4 @ 3.00GHz\n",
      "    Driver version  2022.13.3.0.16_160000\n",
      "    Vendor          Intel(R) Corporation\n",
      "    Profile         FULL_PROFILE\n",
      "    Filter string   opencl:cpu:1\n",
      "\n",
      "=======================================\n",
      "\n"
     ]
    }
   ],
   "source": [
    "import dpctl\n",
    "\n",
    "\"\"\"Programmatically get a list of the available devices.\n",
    "\n",
    "\n",
    "The list can be filtered based on backend or device_type.\n",
    "\n",
    "\"\"\"\n",
    "\n",
    "print(\"Get a list of all devices:\\n\")\n",
    "\n",
    "\n",
    "for d in dpctl.get_devices():\n",
    "\n",
    "    d.print_device_info()\n",
    "\n",
    "print(\"=======================================\\n\")\n",
    "\n",
    "\n",
    "print(\"Get the list of only OpenCL devices:\\n\")\n",
    "\n",
    "\n",
    "for d in dpctl.get_devices(backend=\"opencl\"):\n",
    "\n",
    "    d.print_device_info()\n",
    "\n",
    "\n",
    "print(\"=======================================\\n\")\n",
    "\n",
    "\n",
    "print(\"Get all OpenCL CPU devices:\\n\")\n",
    "\n",
    "\n",
    "for d in dpctl.get_devices(backend=\"opencl\", device_type=\"cpu\"):\n",
    "\n",
    "    d.print_device_info()\n",
    "\n",
    "\n",
    "print(\"=======================================\\n\")"
   ]
  },
  {
   "cell_type": "code",
   "execution_count": 4,
   "id": "02856e81-032e-4225-a965-329b30e7fb74",
   "metadata": {
    "pycharm": {
     "name": "#%%\n"
    }
   },
   "outputs": [],
   "source": [
    "import sklearnex"
   ]
  },
  {
   "cell_type": "code",
   "execution_count": 7,
   "id": "ecbbade8-a432-4771-9bf3-4d3083a3d082",
   "metadata": {
    "pycharm": {
     "name": "#%%\n"
    }
   },
   "outputs": [],
   "source": [
    "import dpctl"
   ]
  },
  {
   "cell_type": "code",
   "execution_count": 17,
   "id": "208a4677-a9cc-41fd-a78e-6549429a786a",
   "metadata": {
    "pycharm": {
     "name": "#%%\n"
    }
   },
   "outputs": [
    {
     "data": {
      "text/plain": [
       "6"
      ]
     },
     "execution_count": 17,
     "metadata": {},
     "output_type": "execute_result"
    }
   ],
   "source": [
    "dpctl.get_num_devices()"
   ]
  },
  {
   "cell_type": "code",
   "execution_count": 19,
   "id": "be623c36-b2c8-4e90-9af3-846868098515",
   "metadata": {
    "pycharm": {
     "name": "#%%\n"
    }
   },
   "outputs": [
    {
     "name": "stdout",
     "output_type": "stream",
     "text": [
      "NOTE: Enter 'c' at the ipdb>  prompt to continue execution.\n",
      "> \u001B[0;32m<string>\u001B[0m(2)\u001B[0;36m<module>\u001B[0;34m()\u001B[0m\n",
      "\n"
     ]
    },
    {
     "name": "stdin",
     "output_type": "stream",
     "text": [
      "ipdb>  'c'\n"
     ]
    },
    {
     "name": "stdout",
     "output_type": "stream",
     "text": [
      "'c'\n"
     ]
    },
    {
     "name": "stdin",
     "output_type": "stream",
     "text": [
      "ipdb>  c\n"
     ]
    }
   ],
   "source": [
    "%%debug\n",
    "dpctl._sycl_device_factory"
   ]
  },
  {
   "cell_type": "code",
   "execution_count": 4,
   "id": "8b28771f-47fd-44da-a041-77941479dcc2",
   "metadata": {
    "pycharm": {
     "name": "#%%\n"
    }
   },
   "outputs": [
    {
     "data": {
      "text/plain": [
       "(1000000,)"
      ]
     },
     "execution_count": 4,
     "metadata": {},
     "output_type": "execute_result"
    }
   ],
   "source": [
    "e.shape"
   ]
  },
  {
   "cell_type": "code",
   "execution_count": 12,
   "id": "53d213b3-c2e8-4cc7-9958-947514909e09",
   "metadata": {
    "pycharm": {
     "name": "#%%\n"
    }
   },
   "outputs": [
    {
     "data": {
      "text/plain": [
       "pandas.core.series.Series"
      ]
     },
     "execution_count": 12,
     "metadata": {},
     "output_type": "execute_result"
    }
   ],
   "source": [
    "type(e)"
   ]
  },
  {
   "cell_type": "code",
   "execution_count": 13,
   "id": "15eb42a7-f8df-42b7-879f-6d994548d7b1",
   "metadata": {
    "pycharm": {
     "name": "#%%\n"
    }
   },
   "outputs": [],
   "source": [
    "ee = e.to_numpy()"
   ]
  },
  {
   "cell_type": "code",
   "execution_count": 17,
   "id": "cb2cae50-febc-4420-b6c6-95682fa1a989",
   "metadata": {
    "pycharm": {
     "name": "#%%\n"
    }
   },
   "outputs": [],
   "source": [
    "er = np.where(ee > 1)"
   ]
  },
  {
   "cell_type": "code",
   "execution_count": 27,
   "id": "fca46678-9373-4017-8f15-2f79add02c18",
   "metadata": {
    "pycharm": {
     "name": "#%%\n"
    }
   },
   "outputs": [
    {
     "data": {
      "text/plain": [
       "array([2, 1, 2, 1, 2, 3, 0, 2, 0, 0, 2, 3, 2, 1, 2, 0, 0, 1, 1, 2],\n",
       "      dtype=uint8)"
      ]
     },
     "execution_count": 27,
     "metadata": {},
     "output_type": "execute_result"
    }
   ],
   "source": [
    "ee[:20]"
   ]
  },
  {
   "cell_type": "code",
   "execution_count": 26,
   "id": "ebf13d14-7497-4d31-adbe-b6327d6ad4a4",
   "metadata": {
    "pycharm": {
     "name": "#%%\n"
    }
   },
   "outputs": [
    {
     "data": {
      "text/plain": [
       "(364774,)"
      ]
     },
     "execution_count": 26,
     "metadata": {},
     "output_type": "execute_result"
    }
   ],
   "source": [
    "ee[ee == 0].shape"
   ]
  },
  {
   "cell_type": "code",
   "execution_count": 28,
   "id": "bee9b203-c1dc-454f-a5f7-0513352d9b95",
   "metadata": {
    "pycharm": {
     "name": "#%%\n"
    }
   },
   "outputs": [],
   "source": [
    "xx = np.where(ee == 1)"
   ]
  },
  {
   "cell_type": "code",
   "execution_count": 29,
   "id": "07b77a8e-20d8-46df-8f22-83abfbd98a04",
   "metadata": {
    "pycharm": {
     "name": "#%%\n"
    }
   },
   "outputs": [
    {
     "data": {
      "text/plain": [
       "(array([     1,      3,     13, ..., 999980, 999986, 999992]),)"
      ]
     },
     "execution_count": 29,
     "metadata": {},
     "output_type": "execute_result"
    }
   ],
   "source": []
  },
  {
   "cell_type": "code",
   "execution_count": null,
   "id": "44c6e3c4-07b9-422d-85ca-24a064b359f2",
   "metadata": {
    "pycharm": {
     "name": "#%%\n"
    }
   },
   "outputs": [],
   "source": []
  }
 ],
 "metadata": {
  "kernelspec": {
   "display_name": "Python 3 (ipykernel)",
   "language": "python",
   "name": "python3"
  },
  "language_info": {
   "codemirror_mode": {
    "name": "ipython",
    "version": 3
   },
   "file_extension": ".py",
   "mimetype": "text/x-python",
   "name": "python",
   "nbconvert_exporter": "python",
   "pygments_lexer": "ipython3",
   "version": "3.9.10"
  }
 },
 "nbformat": 4,
 "nbformat_minor": 5
}