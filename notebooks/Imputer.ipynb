{
 "cells": [
  {
   "cell_type": "markdown",
   "id": "f09f78eb-9704-4cd7-967d-91d42a688785",
   "metadata": {},
   "source": [
    "#### Load Data"
   ]
  },
  {
   "cell_type": "code",
   "execution_count": null,
   "id": "dd714cde-9836-42b9-ad6c-c557e359cc6a",
   "metadata": {},
   "outputs": [],
   "source": [
    "import pickle\n",
    "\n",
    "import numpy as np\n",
    "import pandas as pd\n",
    "\n",
    "data = pd.read_csv(\"../data/data.csv\", index_col=0)\n",
    "\n",
    "int64_cols = data.select_dtypes(\"int64\")\n",
    "for c in int64_cols:\n",
    "    data[c] = data[c].astype(np.uint8)\n",
    "\n",
    "fl16_cols = data.select_dtypes(include=\"float64\")\n",
    "\n",
    "for c in fl16_cols:\n",
    "    data[c] = data[c].astype(np.float32)\n",
    "\n",
    "na_mat = data.isna()\n",
    "\n",
    "miss_row = na_mat.sum(axis=1)\n",
    "\n",
    "data[\"missing_cols\"] = miss_row\n",
    "data.to_pickle(\"cooked.pkl\")"
   ]
  },
  {
   "cell_type": "code",
   "execution_count": null,
   "id": "2a8e6601-bfc0-473f-8266-5603f5c5fc69",
   "metadata": {},
   "outputs": [],
   "source": [
    "# smf = f_select[1]\n",
    "training_features = x_y.drop([\"F_3_16\"], axis=1)\n",
    "y = x_y[\"F_3_16\"]\n",
    "with parallel_backend(\"dask\"):\n",
    "    tree_prep_num_quantile = ColumnTransformer(\n",
    "        transformers=[\n",
    "            (\n",
    "                \"num\",\n",
    "                QuantileTransformer(n_quantiles=10000, output_distribution=\"normal\"),\n",
    "                StandardScaler(with_std=True),\n",
    "                make_column_selector(dtype_include=np.float32),\n",
    "            )\n",
    "        ],\n",
    "        remainder=\"passthrough\",\n",
    "        n_jobs=-1,\n",
    "    )\n",
    "    tree_prep_num_standard = ColumnTransformer(\n",
    "        transformers=[(\"num\", StandardScaler(with_std=True), make_column_selector(dtype_include=np.float32))],\n",
    "        remainder=\"passthrough\",\n",
    "        n_jobs=-1,\n",
    "    )\n",
    "    tree_prep_num_power = ColumnTransformer(\n",
    "        transformers=[\n",
    "            (\n",
    "                \"num\",\n",
    "                QuantileTransformer(n_quantiles=10000, output_distribution=\"normal\"),\n",
    "                StandardScaler(with_std=True),\n",
    "                make_column_selector(dtype_include=np.float32),\n",
    "            )\n",
    "        ],\n",
    "        remainder=\"passthrough\",\n",
    "        n_jobs=-1,\n",
    "    )"
   ]
  }
 ],
 "metadata": {
  "kernelspec": {
   "display_name": "Python 3 (ipykernel)",
   "language": "python",
   "name": "python3"
  },
  "language_info": {
   "codemirror_mode": {
    "name": "ipython",
    "version": 3
   },
   "file_extension": ".py",
   "mimetype": "text/x-python",
   "name": "python",
   "nbconvert_exporter": "python",
   "pygments_lexer": "ipython3",
   "version": "3.9.10"
  }
 },
 "nbformat": 4,
 "nbformat_minor": 5
}
